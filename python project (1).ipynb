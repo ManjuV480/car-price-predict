{
 "cells": [
  {
   "cell_type": "code",
   "execution_count": 1,
   "id": "a47b3548-0061-4aad-aa74-559971662c89",
   "metadata": {},
   "outputs": [],
   "source": [
    "import pandas as pd\n",
    "import numpy as np"
   ]
  },
  {
   "cell_type": "code",
   "execution_count": 2,
   "id": "b12ce6af-d199-4f83-9d14-31eaf614b575",
   "metadata": {},
   "outputs": [
    {
     "data": {
      "text/html": [
       "<div>\n",
       "<style scoped>\n",
       "    .dataframe tbody tr th:only-of-type {\n",
       "        vertical-align: middle;\n",
       "    }\n",
       "\n",
       "    .dataframe tbody tr th {\n",
       "        vertical-align: top;\n",
       "    }\n",
       "\n",
       "    .dataframe thead th {\n",
       "        text-align: right;\n",
       "    }\n",
       "</style>\n",
       "<table border=\"1\" class=\"dataframe\">\n",
       "  <thead>\n",
       "    <tr style=\"text-align: right;\">\n",
       "      <th></th>\n",
       "      <th>Id</th>\n",
       "      <th>Maker</th>\n",
       "      <th>model</th>\n",
       "      <th>Location</th>\n",
       "      <th>Distance</th>\n",
       "      <th>Owner Type</th>\n",
       "      <th>manufacture_year</th>\n",
       "      <th>Age of car</th>\n",
       "      <th>engine_displacement</th>\n",
       "      <th>engine_power</th>\n",
       "      <th>body_type</th>\n",
       "      <th>Vroom Audit Rating</th>\n",
       "      <th>transmission</th>\n",
       "      <th>door_count</th>\n",
       "      <th>seat_count</th>\n",
       "      <th>fuel_type</th>\n",
       "      <th>Price</th>\n",
       "    </tr>\n",
       "  </thead>\n",
       "  <tbody>\n",
       "    <tr>\n",
       "      <th>0</th>\n",
       "      <td>25001</td>\n",
       "      <td>skoda</td>\n",
       "      <td>octavia</td>\n",
       "      <td>Ahmedabad</td>\n",
       "      <td>NaN</td>\n",
       "      <td>Second</td>\n",
       "      <td>1964</td>\n",
       "      <td>55</td>\n",
       "      <td>1964</td>\n",
       "      <td>147.0</td>\n",
       "      <td>compact</td>\n",
       "      <td>8</td>\n",
       "      <td>man</td>\n",
       "      <td>NaN</td>\n",
       "      <td>NaN</td>\n",
       "      <td>petrol</td>\n",
       "      <td>543764.25</td>\n",
       "    </tr>\n",
       "    <tr>\n",
       "      <th>1</th>\n",
       "      <td>25002</td>\n",
       "      <td>fiat</td>\n",
       "      <td>panda</td>\n",
       "      <td>Ahmedabad</td>\n",
       "      <td>27750.0</td>\n",
       "      <td>Third</td>\n",
       "      <td>2012</td>\n",
       "      <td>7</td>\n",
       "      <td>1242</td>\n",
       "      <td>51.0</td>\n",
       "      <td>NaN</td>\n",
       "      <td>6</td>\n",
       "      <td>man</td>\n",
       "      <td>4.0</td>\n",
       "      <td>4.0</td>\n",
       "      <td>petrol</td>\n",
       "      <td>401819.25</td>\n",
       "    </tr>\n",
       "    <tr>\n",
       "      <th>2</th>\n",
       "      <td>25003</td>\n",
       "      <td>bmw</td>\n",
       "      <td>x1</td>\n",
       "      <td>Hyderabad</td>\n",
       "      <td>46000.0</td>\n",
       "      <td>Third</td>\n",
       "      <td>2014</td>\n",
       "      <td>5</td>\n",
       "      <td>1995</td>\n",
       "      <td>105.0</td>\n",
       "      <td>NaN</td>\n",
       "      <td>7</td>\n",
       "      <td>auto</td>\n",
       "      <td>4.0</td>\n",
       "      <td>5.0</td>\n",
       "      <td>diesel</td>\n",
       "      <td>2392855.50</td>\n",
       "    </tr>\n",
       "    <tr>\n",
       "      <th>3</th>\n",
       "      <td>25004</td>\n",
       "      <td>nissan</td>\n",
       "      <td>juke</td>\n",
       "      <td>Mumbai</td>\n",
       "      <td>43949.0</td>\n",
       "      <td>Third</td>\n",
       "      <td>2011</td>\n",
       "      <td>8</td>\n",
       "      <td>1618</td>\n",
       "      <td>140.0</td>\n",
       "      <td>NaN</td>\n",
       "      <td>7</td>\n",
       "      <td>man</td>\n",
       "      <td>4.0</td>\n",
       "      <td>5.0</td>\n",
       "      <td>petrol</td>\n",
       "      <td>958606.50</td>\n",
       "    </tr>\n",
       "    <tr>\n",
       "      <th>4</th>\n",
       "      <td>25005</td>\n",
       "      <td>bmw</td>\n",
       "      <td>x5</td>\n",
       "      <td>Jaipur</td>\n",
       "      <td>59524.0</td>\n",
       "      <td>Fourth &amp; Above</td>\n",
       "      <td>2012</td>\n",
       "      <td>7</td>\n",
       "      <td>2993</td>\n",
       "      <td>180.0</td>\n",
       "      <td>NaN</td>\n",
       "      <td>7</td>\n",
       "      <td>auto</td>\n",
       "      <td>4.0</td>\n",
       "      <td>5.0</td>\n",
       "      <td>diesel</td>\n",
       "      <td>3085561.50</td>\n",
       "    </tr>\n",
       "    <tr>\n",
       "      <th>...</th>\n",
       "      <td>...</td>\n",
       "      <td>...</td>\n",
       "      <td>...</td>\n",
       "      <td>...</td>\n",
       "      <td>...</td>\n",
       "      <td>...</td>\n",
       "      <td>...</td>\n",
       "      <td>...</td>\n",
       "      <td>...</td>\n",
       "      <td>...</td>\n",
       "      <td>...</td>\n",
       "      <td>...</td>\n",
       "      <td>...</td>\n",
       "      <td>...</td>\n",
       "      <td>...</td>\n",
       "      <td>...</td>\n",
       "      <td>...</td>\n",
       "    </tr>\n",
       "    <tr>\n",
       "      <th>53510</th>\n",
       "      <td>78511</td>\n",
       "      <td>skoda</td>\n",
       "      <td>octavia</td>\n",
       "      <td>Delhi</td>\n",
       "      <td>29334.0</td>\n",
       "      <td>Fourth &amp; Above</td>\n",
       "      <td>2014</td>\n",
       "      <td>5</td>\n",
       "      <td>1598</td>\n",
       "      <td>77.0</td>\n",
       "      <td>NaN</td>\n",
       "      <td>4</td>\n",
       "      <td>man</td>\n",
       "      <td>4.0</td>\n",
       "      <td>5.0</td>\n",
       "      <td>diesel</td>\n",
       "      <td>1342996.50</td>\n",
       "    </tr>\n",
       "    <tr>\n",
       "      <th>53511</th>\n",
       "      <td>78512</td>\n",
       "      <td>skoda</td>\n",
       "      <td>octavia</td>\n",
       "      <td>Bangalore</td>\n",
       "      <td>223631.0</td>\n",
       "      <td>Fourth &amp; Above</td>\n",
       "      <td>2009</td>\n",
       "      <td>10</td>\n",
       "      <td>1900</td>\n",
       "      <td>77.0</td>\n",
       "      <td>NaN</td>\n",
       "      <td>8</td>\n",
       "      <td>man</td>\n",
       "      <td>5.0</td>\n",
       "      <td>5.0</td>\n",
       "      <td>diesel</td>\n",
       "      <td>510732.75</td>\n",
       "    </tr>\n",
       "    <tr>\n",
       "      <th>53512</th>\n",
       "      <td>78513</td>\n",
       "      <td>bmw</td>\n",
       "      <td>x1</td>\n",
       "      <td>Pune</td>\n",
       "      <td>25500.0</td>\n",
       "      <td>Third</td>\n",
       "      <td>2015</td>\n",
       "      <td>4</td>\n",
       "      <td>1995</td>\n",
       "      <td>105.0</td>\n",
       "      <td>NaN</td>\n",
       "      <td>4</td>\n",
       "      <td>auto</td>\n",
       "      <td>4.0</td>\n",
       "      <td>5.0</td>\n",
       "      <td>diesel</td>\n",
       "      <td>2008123.50</td>\n",
       "    </tr>\n",
       "    <tr>\n",
       "      <th>53513</th>\n",
       "      <td>78514</td>\n",
       "      <td>toyota</td>\n",
       "      <td>avensis</td>\n",
       "      <td>Jaipur</td>\n",
       "      <td>1195500.0</td>\n",
       "      <td>Third</td>\n",
       "      <td>2011</td>\n",
       "      <td>8</td>\n",
       "      <td>11950</td>\n",
       "      <td>93.0</td>\n",
       "      <td>compact</td>\n",
       "      <td>5</td>\n",
       "      <td>man</td>\n",
       "      <td>NaN</td>\n",
       "      <td>NaN</td>\n",
       "      <td>diesel</td>\n",
       "      <td>874352.25</td>\n",
       "    </tr>\n",
       "    <tr>\n",
       "      <th>53514</th>\n",
       "      <td>78515</td>\n",
       "      <td>bmw</td>\n",
       "      <td>x5</td>\n",
       "      <td>Kochi</td>\n",
       "      <td>142000.0</td>\n",
       "      <td>First</td>\n",
       "      <td>2008</td>\n",
       "      <td>11</td>\n",
       "      <td>2993</td>\n",
       "      <td>173.0</td>\n",
       "      <td>NaN</td>\n",
       "      <td>4</td>\n",
       "      <td>auto</td>\n",
       "      <td>5.0</td>\n",
       "      <td>5.0</td>\n",
       "      <td>diesel</td>\n",
       "      <td>1576610.25</td>\n",
       "    </tr>\n",
       "  </tbody>\n",
       "</table>\n",
       "<p>53515 rows × 17 columns</p>\n",
       "</div>"
      ],
      "text/plain": [
       "          Id   Maker    model   Location  Distance       Owner Type  \\\n",
       "0      25001   skoda  octavia  Ahmedabad        NaN          Second   \n",
       "1      25002    fiat    panda  Ahmedabad    27750.0           Third   \n",
       "2      25003     bmw       x1  Hyderabad    46000.0           Third   \n",
       "3      25004  nissan     juke     Mumbai    43949.0           Third   \n",
       "4      25005     bmw       x5     Jaipur    59524.0  Fourth & Above   \n",
       "...      ...     ...      ...        ...        ...             ...   \n",
       "53510  78511   skoda  octavia      Delhi    29334.0  Fourth & Above   \n",
       "53511  78512   skoda  octavia  Bangalore   223631.0  Fourth & Above   \n",
       "53512  78513     bmw       x1       Pune    25500.0           Third   \n",
       "53513  78514  toyota  avensis     Jaipur  1195500.0           Third   \n",
       "53514  78515     bmw       x5      Kochi   142000.0           First   \n",
       "\n",
       "       manufacture_year  Age of car  engine_displacement  engine_power  \\\n",
       "0                  1964          55                 1964         147.0   \n",
       "1                  2012           7                 1242          51.0   \n",
       "2                  2014           5                 1995         105.0   \n",
       "3                  2011           8                 1618         140.0   \n",
       "4                  2012           7                 2993         180.0   \n",
       "...                 ...         ...                  ...           ...   \n",
       "53510              2014           5                 1598          77.0   \n",
       "53511              2009          10                 1900          77.0   \n",
       "53512              2015           4                 1995         105.0   \n",
       "53513              2011           8                11950          93.0   \n",
       "53514              2008          11                 2993         173.0   \n",
       "\n",
       "      body_type  Vroom Audit Rating transmission  door_count  seat_count  \\\n",
       "0       compact                   8          man         NaN         NaN   \n",
       "1           NaN                   6          man         4.0         4.0   \n",
       "2           NaN                   7         auto         4.0         5.0   \n",
       "3           NaN                   7          man         4.0         5.0   \n",
       "4           NaN                   7         auto         4.0         5.0   \n",
       "...         ...                 ...          ...         ...         ...   \n",
       "53510       NaN                   4          man         4.0         5.0   \n",
       "53511       NaN                   8          man         5.0         5.0   \n",
       "53512       NaN                   4         auto         4.0         5.0   \n",
       "53513   compact                   5          man         NaN         NaN   \n",
       "53514       NaN                   4         auto         5.0         5.0   \n",
       "\n",
       "      fuel_type       Price  \n",
       "0        petrol   543764.25  \n",
       "1        petrol   401819.25  \n",
       "2        diesel  2392855.50  \n",
       "3        petrol   958606.50  \n",
       "4        diesel  3085561.50  \n",
       "...         ...         ...  \n",
       "53510    diesel  1342996.50  \n",
       "53511    diesel   510732.75  \n",
       "53512    diesel  2008123.50  \n",
       "53513    diesel   874352.25  \n",
       "53514    diesel  1576610.25  \n",
       "\n",
       "[53515 rows x 17 columns]"
      ]
     },
     "execution_count": 2,
     "metadata": {},
     "output_type": "execute_result"
    }
   ],
   "source": [
    "df=pd.read_csv('Training_Data_Set.csv')\n",
    "df"
   ]
  },
  {
   "cell_type": "code",
   "execution_count": 3,
   "id": "a0d2fa8f-21c5-4276-a1d0-b81714824c97",
   "metadata": {},
   "outputs": [
    {
     "data": {
      "text/plain": [
       "Id                         0\n",
       "Maker                      0\n",
       "model                      0\n",
       "Location                   0\n",
       "Distance                1211\n",
       "Owner Type                 0\n",
       "manufacture_year           0\n",
       "Age of car                 0\n",
       "engine_displacement        0\n",
       "engine_power            1439\n",
       "body_type              49379\n",
       "Vroom Audit Rating         0\n",
       "transmission               0\n",
       "door_count              7534\n",
       "seat_count              8511\n",
       "fuel_type                  0\n",
       "Price                      0\n",
       "dtype: int64"
      ]
     },
     "execution_count": 3,
     "metadata": {},
     "output_type": "execute_result"
    }
   ],
   "source": [
    "df.isna().sum()"
   ]
  },
  {
   "cell_type": "code",
   "execution_count": 4,
   "id": "bb7f2fa5-daa6-41e9-bf13-61527a21f3e1",
   "metadata": {},
   "outputs": [
    {
     "data": {
      "text/plain": [
       "Id                         0\n",
       "Maker                      0\n",
       "model                      0\n",
       "Location                   0\n",
       "Distance                1211\n",
       "Owner Type                 0\n",
       "manufacture_year           0\n",
       "Age of car                 0\n",
       "engine_displacement        0\n",
       "engine_power            1439\n",
       "body_type              49379\n",
       "Vroom Audit Rating         0\n",
       "transmission               0\n",
       "door_count              7534\n",
       "seat_count              8511\n",
       "fuel_type                  0\n",
       "Price                      0\n",
       "dtype: int64"
      ]
     },
     "execution_count": 4,
     "metadata": {},
     "output_type": "execute_result"
    }
   ],
   "source": [
    "df.isnull().sum()"
   ]
  },
  {
   "cell_type": "code",
   "execution_count": 5,
   "id": "30c4763f-dd31-4785-b8eb-0ac7038d05e4",
   "metadata": {},
   "outputs": [
    {
     "data": {
      "text/plain": [
       "Index(['Id', 'Maker', 'model', 'Location', 'Distance ', 'Owner Type',\n",
       "       'manufacture_year', 'Age of car', 'engine_displacement', 'engine_power',\n",
       "       'body_type', 'Vroom Audit Rating', 'transmission', 'door_count',\n",
       "       'seat_count', 'fuel_type', 'Price'],\n",
       "      dtype='object')"
      ]
     },
     "execution_count": 5,
     "metadata": {},
     "output_type": "execute_result"
    }
   ],
   "source": [
    "df.columns"
   ]
  },
  {
   "cell_type": "code",
   "execution_count": 6,
   "id": "f2c758b4-7118-4fb0-a573-bc690f8003b8",
   "metadata": {},
   "outputs": [],
   "source": [
    "df.drop(columns='body_type',inplace=True)"
   ]
  },
  {
   "cell_type": "code",
   "execution_count": 7,
   "id": "fef9e04e-6c72-43c3-a97c-c8ab6f4716c8",
   "metadata": {},
   "outputs": [
    {
     "data": {
      "text/plain": [
       "Index(['Id', 'Maker', 'model', 'Location', 'Distance ', 'Owner Type',\n",
       "       'manufacture_year', 'Age of car', 'engine_displacement', 'engine_power',\n",
       "       'Vroom Audit Rating', 'transmission', 'door_count', 'seat_count',\n",
       "       'fuel_type', 'Price'],\n",
       "      dtype='object')"
      ]
     },
     "execution_count": 7,
     "metadata": {},
     "output_type": "execute_result"
    }
   ],
   "source": [
    "df.columns"
   ]
  },
  {
   "cell_type": "code",
   "execution_count": 8,
   "id": "0c9e6460-3955-4ae1-babb-efc5754dba9f",
   "metadata": {},
   "outputs": [
    {
     "data": {
      "text/plain": [
       "Id                        0\n",
       "Maker                     0\n",
       "model                     0\n",
       "Location                  0\n",
       "Distance               1211\n",
       "Owner Type                0\n",
       "manufacture_year          0\n",
       "Age of car                0\n",
       "engine_displacement       0\n",
       "engine_power           1439\n",
       "Vroom Audit Rating        0\n",
       "transmission              0\n",
       "door_count             7534\n",
       "seat_count             8511\n",
       "fuel_type                 0\n",
       "Price                     0\n",
       "dtype: int64"
      ]
     },
     "execution_count": 8,
     "metadata": {},
     "output_type": "execute_result"
    }
   ],
   "source": [
    "df.isnull().sum()"
   ]
  },
  {
   "cell_type": "code",
   "execution_count": 9,
   "id": "3bd743db-44fc-469e-a7ff-ed16488ab10e",
   "metadata": {},
   "outputs": [
    {
     "data": {
      "text/plain": [
       "np.float64(94546.2624464668)"
      ]
     },
     "execution_count": 9,
     "metadata": {},
     "output_type": "execute_result"
    }
   ],
   "source": [
    "df['Distance '].mean()"
   ]
  },
  {
   "cell_type": "code",
   "execution_count": 10,
   "id": "d42cfbd3-2afd-4a6f-ba1a-c58496460a1a",
   "metadata": {},
   "outputs": [
    {
     "data": {
      "text/plain": [
       "np.float64(65520.0)"
      ]
     },
     "execution_count": 10,
     "metadata": {},
     "output_type": "execute_result"
    }
   ],
   "source": [
    "df['Distance '].median()"
   ]
  },
  {
   "cell_type": "code",
   "execution_count": 11,
   "id": "672740e6-3a77-46b8-85bc-bb45db4c5731",
   "metadata": {},
   "outputs": [],
   "source": [
    "import warnings\n",
    "warnings.filterwarnings('ignore')\n",
    "df['Distance '].fillna(df['Distance '].median(),inplace=True)"
   ]
  },
  {
   "cell_type": "code",
   "execution_count": 12,
   "id": "0ff4485b-ec62-4e13-bc83-d6dc39db27ed",
   "metadata": {},
   "outputs": [
    {
     "data": {
      "text/plain": [
       "np.int64(0)"
      ]
     },
     "execution_count": 12,
     "metadata": {},
     "output_type": "execute_result"
    }
   ],
   "source": [
    "df['Distance '].isnull().sum()"
   ]
  },
  {
   "cell_type": "code",
   "execution_count": 13,
   "id": "abf20492-6489-47d2-b00c-3fb28524a3be",
   "metadata": {},
   "outputs": [
    {
     "data": {
      "text/plain": [
       "np.float64(100.44834472693755)"
      ]
     },
     "execution_count": 13,
     "metadata": {},
     "output_type": "execute_result"
    }
   ],
   "source": [
    "df['engine_power'].mean()"
   ]
  },
  {
   "cell_type": "code",
   "execution_count": 14,
   "id": "abeaa244-7c4a-4a5b-a184-a30c0f8c861b",
   "metadata": {},
   "outputs": [
    {
     "data": {
      "text/plain": [
       "np.float64(91.0)"
      ]
     },
     "execution_count": 14,
     "metadata": {},
     "output_type": "execute_result"
    }
   ],
   "source": [
    "df['engine_power'].median()"
   ]
  },
  {
   "cell_type": "code",
   "execution_count": 15,
   "id": "2120ec26-74dd-4c45-88c8-61f284a5d49c",
   "metadata": {},
   "outputs": [],
   "source": [
    "df['engine_power'].fillna(df['engine_power'].mean(),inplace=True)"
   ]
  },
  {
   "cell_type": "code",
   "execution_count": 16,
   "id": "3f1701f9-5e18-4f44-9da0-ae8c04d9c1fe",
   "metadata": {},
   "outputs": [
    {
     "data": {
      "text/plain": [
       "np.int64(0)"
      ]
     },
     "execution_count": 16,
     "metadata": {},
     "output_type": "execute_result"
    }
   ],
   "source": [
    "df['engine_power'].isnull().sum()"
   ]
  },
  {
   "cell_type": "code",
   "execution_count": 17,
   "id": "dbaaa895-7627-4e7d-af62-071e99bb9733",
   "metadata": {},
   "outputs": [
    {
     "data": {
      "text/plain": [
       "np.float64(3.973010591331202)"
      ]
     },
     "execution_count": 17,
     "metadata": {},
     "output_type": "execute_result"
    }
   ],
   "source": [
    "df['door_count'].mean()"
   ]
  },
  {
   "cell_type": "code",
   "execution_count": 18,
   "id": "a18884b7-d19c-49f2-bc71-add17d71bfc9",
   "metadata": {},
   "outputs": [
    {
     "data": {
      "text/plain": [
       "np.float64(4.0)"
      ]
     },
     "execution_count": 18,
     "metadata": {},
     "output_type": "execute_result"
    }
   ],
   "source": [
    "df['door_count'].median()"
   ]
  },
  {
   "cell_type": "code",
   "execution_count": 19,
   "id": "645a34ee-8ea8-44c5-a5b7-9bec181f4777",
   "metadata": {},
   "outputs": [],
   "source": [
    "df['door_count'].fillna(df['door_count'].mean(),inplace=True)"
   ]
  },
  {
   "cell_type": "code",
   "execution_count": 20,
   "id": "21035303-d4dd-4b7b-bb45-3e087b094230",
   "metadata": {},
   "outputs": [
    {
     "data": {
      "text/plain": [
       "np.int64(0)"
      ]
     },
     "execution_count": 20,
     "metadata": {},
     "output_type": "execute_result"
    }
   ],
   "source": [
    "df['door_count'].isnull().sum()"
   ]
  },
  {
   "cell_type": "code",
   "execution_count": 21,
   "id": "1a1f6995-e2a4-407b-8cb0-3c7fc5316471",
   "metadata": {},
   "outputs": [],
   "source": [
    "df['seat_count'].fillna(df['seat_count'].mean(),inplace=True)"
   ]
  },
  {
   "cell_type": "code",
   "execution_count": 22,
   "id": "54b17f72-141b-45e1-a419-85a8112e0c32",
   "metadata": {},
   "outputs": [
    {
     "data": {
      "text/plain": [
       "np.int64(0)"
      ]
     },
     "execution_count": 22,
     "metadata": {},
     "output_type": "execute_result"
    }
   ],
   "source": [
    "df['seat_count'].isnull().sum()"
   ]
  },
  {
   "cell_type": "code",
   "execution_count": 23,
   "id": "9b9b3243-aa60-4e86-8150-1f60461b4747",
   "metadata": {},
   "outputs": [
    {
     "data": {
      "text/plain": [
       "Id                     0\n",
       "Maker                  0\n",
       "model                  0\n",
       "Location               0\n",
       "Distance               0\n",
       "Owner Type             0\n",
       "manufacture_year       0\n",
       "Age of car             0\n",
       "engine_displacement    0\n",
       "engine_power           0\n",
       "Vroom Audit Rating     0\n",
       "transmission           0\n",
       "door_count             0\n",
       "seat_count             0\n",
       "fuel_type              0\n",
       "Price                  0\n",
       "dtype: int64"
      ]
     },
     "execution_count": 23,
     "metadata": {},
     "output_type": "execute_result"
    }
   ],
   "source": [
    "df.isnull().sum()"
   ]
  },
  {
   "cell_type": "code",
   "execution_count": 24,
   "id": "c80e2335-78a5-4bd4-bec5-38fcfd231fac",
   "metadata": {},
   "outputs": [
    {
     "data": {
      "text/plain": [
       "Id                       int64\n",
       "Maker                   object\n",
       "model                   object\n",
       "Location                object\n",
       "Distance               float64\n",
       "Owner Type              object\n",
       "manufacture_year         int64\n",
       "Age of car               int64\n",
       "engine_displacement      int64\n",
       "engine_power           float64\n",
       "Vroom Audit Rating       int64\n",
       "transmission            object\n",
       "door_count             float64\n",
       "seat_count             float64\n",
       "fuel_type               object\n",
       "Price                  float64\n",
       "dtype: object"
      ]
     },
     "execution_count": 24,
     "metadata": {},
     "output_type": "execute_result"
    }
   ],
   "source": [
    "df.dtypes"
   ]
  },
  {
   "cell_type": "code",
   "execution_count": 25,
   "id": "1491788f-34e2-4739-8a94-39886fb8757b",
   "metadata": {},
   "outputs": [],
   "source": [
    "from sklearn.preprocessing import LabelEncoder\n",
    "le=LabelEncoder()"
   ]
  },
  {
   "cell_type": "code",
   "execution_count": 26,
   "id": "f512d7f2-2b47-4c6d-a3b1-ed3dc7c8a637",
   "metadata": {},
   "outputs": [],
   "source": [
    "df['Maker']=le.fit_transform(df['Maker'])"
   ]
  },
  {
   "cell_type": "code",
   "execution_count": 27,
   "id": "f9d53b1f-22b7-47b8-8f8b-a668b6727f76",
   "metadata": {},
   "outputs": [],
   "source": [
    "df['model']=le.fit_transform(df['model'])"
   ]
  },
  {
   "cell_type": "code",
   "execution_count": 28,
   "id": "e797ca31-b916-4fd6-84b5-31d97ed49ec1",
   "metadata": {},
   "outputs": [
    {
     "data": {
      "text/plain": [
       "dtype('int64')"
      ]
     },
     "execution_count": 28,
     "metadata": {},
     "output_type": "execute_result"
    }
   ],
   "source": [
    "df['model'].dtypes"
   ]
  },
  {
   "cell_type": "code",
   "execution_count": 29,
   "id": "d75c22ad-b84f-4d89-ad85-697124290457",
   "metadata": {},
   "outputs": [],
   "source": [
    "df['Location']=le.fit_transform(df['Location'])"
   ]
  },
  {
   "cell_type": "code",
   "execution_count": 30,
   "id": "2bf8a658-7618-48ac-8896-6ea11e87de2d",
   "metadata": {},
   "outputs": [
    {
     "data": {
      "text/plain": [
       "dtype('int64')"
      ]
     },
     "execution_count": 30,
     "metadata": {},
     "output_type": "execute_result"
    }
   ],
   "source": [
    "df['Location'].dtypes"
   ]
  },
  {
   "cell_type": "code",
   "execution_count": 31,
   "id": "fae4e2d0-31c9-4bdf-ab08-b4c40fd3fbc8",
   "metadata": {},
   "outputs": [],
   "source": [
    "df['Owner Type']=le.fit_transform(df['Owner Type'])"
   ]
  },
  {
   "cell_type": "code",
   "execution_count": 32,
   "id": "6d968f56-7fa4-4fb2-9212-d846c4dd36ec",
   "metadata": {},
   "outputs": [
    {
     "data": {
      "text/plain": [
       "dtype('int64')"
      ]
     },
     "execution_count": 32,
     "metadata": {},
     "output_type": "execute_result"
    }
   ],
   "source": [
    "df['Owner Type'].dtypes"
   ]
  },
  {
   "cell_type": "code",
   "execution_count": 33,
   "id": "de9f5a1b-7738-428e-8dfa-bbb754f1f86e",
   "metadata": {},
   "outputs": [
    {
     "data": {
      "text/plain": [
       "dtype('int64')"
      ]
     },
     "execution_count": 33,
     "metadata": {},
     "output_type": "execute_result"
    }
   ],
   "source": [
    "df['transmission']=le.fit_transform(df['transmission'])\n",
    "df['transmission'].dtypes"
   ]
  },
  {
   "cell_type": "code",
   "execution_count": 34,
   "id": "f301595a-bdee-4c07-88df-8369e8b23f59",
   "metadata": {},
   "outputs": [
    {
     "data": {
      "text/plain": [
       "dtype('int64')"
      ]
     },
     "execution_count": 34,
     "metadata": {},
     "output_type": "execute_result"
    }
   ],
   "source": [
    "df['fuel_type']=le.fit_transform(df['fuel_type'])\n",
    "df['fuel_type'].dtypes"
   ]
  },
  {
   "cell_type": "code",
   "execution_count": 35,
   "id": "83c3edcb-8f93-435a-b1aa-5f1aaf169fdf",
   "metadata": {},
   "outputs": [
    {
     "data": {
      "text/plain": [
       "Id                       int64\n",
       "Maker                    int64\n",
       "model                    int64\n",
       "Location                 int64\n",
       "Distance               float64\n",
       "Owner Type               int64\n",
       "manufacture_year         int64\n",
       "Age of car               int64\n",
       "engine_displacement      int64\n",
       "engine_power           float64\n",
       "Vroom Audit Rating       int64\n",
       "transmission             int64\n",
       "door_count             float64\n",
       "seat_count             float64\n",
       "fuel_type                int64\n",
       "Price                  float64\n",
       "dtype: object"
      ]
     },
     "execution_count": 35,
     "metadata": {},
     "output_type": "execute_result"
    }
   ],
   "source": [
    "df.dtypes"
   ]
  },
  {
   "cell_type": "code",
   "execution_count": 36,
   "id": "52e3aedf-00e4-4cfb-90db-ced7d62cc103",
   "metadata": {},
   "outputs": [],
   "source": [
    "import matplotlib.pyplot as plt"
   ]
  },
  {
   "cell_type": "code",
   "execution_count": 37,
   "id": "91aa7e83-ad99-4d93-bf36-e2b8aa7bc5f3",
   "metadata": {},
   "outputs": [
    {
     "data": {
      "image/png": "[encoded data removed]",
      "text/plain": [
       "<Figure size 640x480 with 1 Axes>"
      ]
     },
     "metadata": {},
     "output_type": "display_data"
    }
   ],
   "source": [
    "df.boxplot()\n",
    "plt.show()"
   ]
  },
  {
   "cell_type": "code",
   "execution_count": 38,
   "id": "7552daea-e099-4139-ab82-512992db3d9d",
   "metadata": {},
   "outputs": [
    {
     "data": {
      "text/html": [
       "<div>\n",
       "<style scoped>\n",
       "    .dataframe tbody tr th:only-of-type {\n",
       "        vertical-align: middle;\n",
       "    }\n",
       "\n",
       "    .dataframe tbody tr th {\n",
       "        vertical-align: top;\n",
       "    }\n",
       "\n",
       "    .dataframe thead th {\n",
       "        text-align: right;\n",
       "    }\n",
       "</style>\n",
       "<table border=\"1\" class=\"dataframe\">\n",
       "  <thead>\n",
       "    <tr style=\"text-align: right;\">\n",
       "      <th></th>\n",
       "      <th>Id</th>\n",
       "      <th>Maker</th>\n",
       "      <th>model</th>\n",
       "      <th>Location</th>\n",
       "      <th>Distance</th>\n",
       "      <th>Owner Type</th>\n",
       "      <th>manufacture_year</th>\n",
       "      <th>Age of car</th>\n",
       "      <th>engine_displacement</th>\n",
       "      <th>engine_power</th>\n",
       "      <th>Vroom Audit Rating</th>\n",
       "      <th>transmission</th>\n",
       "      <th>door_count</th>\n",
       "      <th>seat_count</th>\n",
       "      <th>fuel_type</th>\n",
       "      <th>Price</th>\n",
       "    </tr>\n",
       "  </thead>\n",
       "  <tbody>\n",
       "    <tr>\n",
       "      <th>0</th>\n",
       "      <td>-1.732002</td>\n",
       "      <td>0.670435</td>\n",
       "      <td>-0.525374</td>\n",
       "      <td>-1.586813</td>\n",
       "      <td>-0.104123</td>\n",
       "      <td>0.447061</td>\n",
       "      <td>-9.979547</td>\n",
       "      <td>9.979547</td>\n",
       "      <td>0.040059</td>\n",
       "      <td>1.041028</td>\n",
       "      <td>1.411249</td>\n",
       "      <td>0.675882</td>\n",
       "      <td>0.000000</td>\n",
       "      <td>0.000000</td>\n",
       "      <td>1.030407</td>\n",
       "      <td>-0.656655</td>\n",
       "    </tr>\n",
       "    <tr>\n",
       "      <th>1</th>\n",
       "      <td>-1.731938</td>\n",
       "      <td>-0.895159</td>\n",
       "      <td>-0.363218</td>\n",
       "      <td>-1.586813</td>\n",
       "      <td>-0.242749</td>\n",
       "      <td>1.340899</td>\n",
       "      <td>0.342318</td>\n",
       "      <td>-0.342318</td>\n",
       "      <td>-0.442379</td>\n",
       "      <td>-1.105807</td>\n",
       "      <td>0.001146</td>\n",
       "      <td>0.675882</td>\n",
       "      <td>0.039312</td>\n",
       "      <td>-1.712223</td>\n",
       "      <td>1.030407</td>\n",
       "      <td>-0.824805</td>\n",
       "    </tr>\n",
       "    <tr>\n",
       "      <th>2</th>\n",
       "      <td>-1.731873</td>\n",
       "      <td>-1.286557</td>\n",
       "      <td>1.096184</td>\n",
       "      <td>-0.003090</td>\n",
       "      <td>-0.175767</td>\n",
       "      <td>1.340899</td>\n",
       "      <td>0.772396</td>\n",
       "      <td>-0.772396</td>\n",
       "      <td>0.060773</td>\n",
       "      <td>0.101788</td>\n",
       "      <td>0.706198</td>\n",
       "      <td>-1.479521</td>\n",
       "      <td>0.039312</td>\n",
       "      <td>0.220093</td>\n",
       "      <td>-0.970472</td>\n",
       "      <td>1.533806</td>\n",
       "    </tr>\n",
       "    <tr>\n",
       "      <th>3</th>\n",
       "      <td>-1.731808</td>\n",
       "      <td>0.279036</td>\n",
       "      <td>-0.849686</td>\n",
       "      <td>1.263889</td>\n",
       "      <td>-0.183294</td>\n",
       "      <td>1.340899</td>\n",
       "      <td>0.127279</td>\n",
       "      <td>-0.127279</td>\n",
       "      <td>-0.191137</td>\n",
       "      <td>0.884488</td>\n",
       "      <td>0.706198</td>\n",
       "      <td>0.675882</td>\n",
       "      <td>0.039312</td>\n",
       "      <td>0.220093</td>\n",
       "      <td>1.030407</td>\n",
       "      <td>-0.165226</td>\n",
       "    </tr>\n",
       "    <tr>\n",
       "      <th>4</th>\n",
       "      <td>-1.731743</td>\n",
       "      <td>-1.286557</td>\n",
       "      <td>1.420496</td>\n",
       "      <td>0.313655</td>\n",
       "      <td>-0.126130</td>\n",
       "      <td>-0.446777</td>\n",
       "      <td>0.342318</td>\n",
       "      <td>-0.342318</td>\n",
       "      <td>0.727634</td>\n",
       "      <td>1.779003</td>\n",
       "      <td>0.706198</td>\n",
       "      <td>-1.479521</td>\n",
       "      <td>0.039312</td>\n",
       "      <td>0.220093</td>\n",
       "      <td>-0.970472</td>\n",
       "      <td>2.354395</td>\n",
       "    </tr>\n",
       "    <tr>\n",
       "      <th>...</th>\n",
       "      <td>...</td>\n",
       "      <td>...</td>\n",
       "      <td>...</td>\n",
       "      <td>...</td>\n",
       "      <td>...</td>\n",
       "      <td>...</td>\n",
       "      <td>...</td>\n",
       "      <td>...</td>\n",
       "      <td>...</td>\n",
       "      <td>...</td>\n",
       "      <td>...</td>\n",
       "      <td>...</td>\n",
       "      <td>...</td>\n",
       "      <td>...</td>\n",
       "      <td>...</td>\n",
       "      <td>...</td>\n",
       "    </tr>\n",
       "    <tr>\n",
       "      <th>53510</th>\n",
       "      <td>1.731743</td>\n",
       "      <td>0.670435</td>\n",
       "      <td>-0.525374</td>\n",
       "      <td>-0.319834</td>\n",
       "      <td>-0.236935</td>\n",
       "      <td>-0.446777</td>\n",
       "      <td>0.772396</td>\n",
       "      <td>-0.772396</td>\n",
       "      <td>-0.204501</td>\n",
       "      <td>-0.524372</td>\n",
       "      <td>-1.408957</td>\n",
       "      <td>0.675882</td>\n",
       "      <td>0.039312</td>\n",
       "      <td>0.220093</td>\n",
       "      <td>-0.970472</td>\n",
       "      <td>0.290127</td>\n",
       "    </tr>\n",
       "    <tr>\n",
       "      <th>53511</th>\n",
       "      <td>1.731808</td>\n",
       "      <td>0.670435</td>\n",
       "      <td>-0.525374</td>\n",
       "      <td>-1.270068</td>\n",
       "      <td>0.476186</td>\n",
       "      <td>-0.446777</td>\n",
       "      <td>-0.302798</td>\n",
       "      <td>0.302798</td>\n",
       "      <td>-0.002706</td>\n",
       "      <td>-0.524372</td>\n",
       "      <td>1.411249</td>\n",
       "      <td>0.675882</td>\n",
       "      <td>1.495881</td>\n",
       "      <td>0.220093</td>\n",
       "      <td>-0.970472</td>\n",
       "      <td>-0.695784</td>\n",
       "    </tr>\n",
       "    <tr>\n",
       "      <th>53512</th>\n",
       "      <td>1.731873</td>\n",
       "      <td>-1.286557</td>\n",
       "      <td>1.096184</td>\n",
       "      <td>1.580634</td>\n",
       "      <td>-0.251007</td>\n",
       "      <td>1.340899</td>\n",
       "      <td>0.987435</td>\n",
       "      <td>-0.987435</td>\n",
       "      <td>0.060773</td>\n",
       "      <td>0.101788</td>\n",
       "      <td>-1.408957</td>\n",
       "      <td>-1.479521</td>\n",
       "      <td>0.039312</td>\n",
       "      <td>0.220093</td>\n",
       "      <td>-0.970472</td>\n",
       "      <td>1.078046</td>\n",
       "    </tr>\n",
       "    <tr>\n",
       "      <th>53513</th>\n",
       "      <td>1.731938</td>\n",
       "      <td>1.061833</td>\n",
       "      <td>-1.660465</td>\n",
       "      <td>0.313655</td>\n",
       "      <td>4.043199</td>\n",
       "      <td>1.340899</td>\n",
       "      <td>0.127279</td>\n",
       "      <td>-0.127279</td>\n",
       "      <td>6.712674</td>\n",
       "      <td>-0.166566</td>\n",
       "      <td>-0.703905</td>\n",
       "      <td>0.675882</td>\n",
       "      <td>0.000000</td>\n",
       "      <td>0.000000</td>\n",
       "      <td>-0.970472</td>\n",
       "      <td>-0.265035</td>\n",
       "    </tr>\n",
       "    <tr>\n",
       "      <th>53514</th>\n",
       "      <td>1.732002</td>\n",
       "      <td>-1.286557</td>\n",
       "      <td>1.420496</td>\n",
       "      <td>0.630400</td>\n",
       "      <td>0.176578</td>\n",
       "      <td>-1.340615</td>\n",
       "      <td>-0.517837</td>\n",
       "      <td>0.517837</td>\n",
       "      <td>0.727634</td>\n",
       "      <td>1.622463</td>\n",
       "      <td>-1.408957</td>\n",
       "      <td>-1.479521</td>\n",
       "      <td>1.495881</td>\n",
       "      <td>0.220093</td>\n",
       "      <td>-0.970472</td>\n",
       "      <td>0.566870</td>\n",
       "    </tr>\n",
       "  </tbody>\n",
       "</table>\n",
       "<p>53515 rows × 16 columns</p>\n",
       "</div>"
      ],
      "text/plain": [
       "             Id     Maker     model  Location  Distance   Owner Type  \\\n",
       "0     -1.732002  0.670435 -0.525374 -1.586813  -0.104123    0.447061   \n",
       "1     -1.731938 -0.895159 -0.363218 -1.586813  -0.242749    1.340899   \n",
       "2     -1.731873 -1.286557  1.096184 -0.003090  -0.175767    1.340899   \n",
       "3     -1.731808  0.279036 -0.849686  1.263889  -0.183294    1.340899   \n",
       "4     -1.731743 -1.286557  1.420496  0.313655  -0.126130   -0.446777   \n",
       "...         ...       ...       ...       ...        ...         ...   \n",
       "53510  1.731743  0.670435 -0.525374 -0.319834  -0.236935   -0.446777   \n",
       "53511  1.731808  0.670435 -0.525374 -1.270068   0.476186   -0.446777   \n",
       "53512  1.731873 -1.286557  1.096184  1.580634  -0.251007    1.340899   \n",
       "53513  1.731938  1.061833 -1.660465  0.313655   4.043199    1.340899   \n",
       "53514  1.732002 -1.286557  1.420496  0.630400   0.176578   -1.340615   \n",
       "\n",
       "       manufacture_year  Age of car  engine_displacement  engine_power  \\\n",
       "0             -9.979547    9.979547             0.040059      1.041028   \n",
       "1              0.342318   -0.342318            -0.442379     -1.105807   \n",
       "2              0.772396   -0.772396             0.060773      0.101788   \n",
       "3              0.127279   -0.127279            -0.191137      0.884488   \n",
       "4              0.342318   -0.342318             0.727634      1.779003   \n",
       "...                 ...         ...                  ...           ...   \n",
       "53510          0.772396   -0.772396            -0.204501     -0.524372   \n",
       "53511         -0.302798    0.302798            -0.002706     -0.524372   \n",
       "53512          0.987435   -0.987435             0.060773      0.101788   \n",
       "53513          0.127279   -0.127279             6.712674     -0.166566   \n",
       "53514         -0.517837    0.517837             0.727634      1.622463   \n",
       "\n",
       "       Vroom Audit Rating  transmission  door_count  seat_count  fuel_type  \\\n",
       "0                1.411249      0.675882    0.000000    0.000000   1.030407   \n",
       "1                0.001146      0.675882    0.039312   -1.712223   1.030407   \n",
       "2                0.706198     -1.479521    0.039312    0.220093  -0.970472   \n",
       "3                0.706198      0.675882    0.039312    0.220093   1.030407   \n",
       "4                0.706198     -1.479521    0.039312    0.220093  -0.970472   \n",
       "...                   ...           ...         ...         ...        ...   \n",
       "53510           -1.408957      0.675882    0.039312    0.220093  -0.970472   \n",
       "53511            1.411249      0.675882    1.495881    0.220093  -0.970472   \n",
       "53512           -1.408957     -1.479521    0.039312    0.220093  -0.970472   \n",
       "53513           -0.703905      0.675882    0.000000    0.000000  -0.970472   \n",
       "53514           -1.408957     -1.479521    1.495881    0.220093  -0.970472   \n",
       "\n",
       "          Price  \n",
       "0     -0.656655  \n",
       "1     -0.824805  \n",
       "2      1.533806  \n",
       "3     -0.165226  \n",
       "4      2.354395  \n",
       "...         ...  \n",
       "53510  0.290127  \n",
       "53511 -0.695784  \n",
       "53512  1.078046  \n",
       "53513 -0.265035  \n",
       "53514  0.566870  \n",
       "\n",
       "[53515 rows x 16 columns]"
      ]
     },
     "execution_count": 38,
     "metadata": {},
     "output_type": "execute_result"
    }
   ],
   "source": [
    "z=(df-df.mean())/df.std()\n",
    "z"
   ]
  },
  {
   "cell_type": "code",
   "execution_count": 39,
   "id": "51af7397-1628-47d4-ab98-05c3db99637c",
   "metadata": {},
   "outputs": [],
   "source": [
    "df1=df[(z>-2)&(z<2)]"
   ]
  },
  {
   "cell_type": "code",
   "execution_count": 40,
   "id": "121e194b-a753-45a2-80cc-ae1bba6106ff",
   "metadata": {},
   "outputs": [
    {
     "data": {
      "image/png": "[encoded data removed]",
      "text/plain": [
       "<Figure size 640x480 with 1 Axes>"
      ]
     },
     "metadata": {},
     "output_type": "display_data"
    }
   ],
   "source": [
    "df1.boxplot()\n",
    "plt.show()"
   ]
  },
  {
   "cell_type": "code",
   "execution_count": 41,
   "id": "158821b8-c848-4990-a797-40cd143129f8",
   "metadata": {},
   "outputs": [],
   "source": [
    "z=(df1-df1.mean())/df1.std()"
   ]
  },
  {
   "cell_type": "code",
   "execution_count": 42,
   "id": "4c49dc95-b194-402b-8874-2a31b4cb4bb5",
   "metadata": {},
   "outputs": [],
   "source": [
    "df2=df1[(z>-2)&(z<2)]"
   ]
  },
  {
   "cell_type": "code",
   "execution_count": 43,
   "id": "7d256756-5310-4a37-80fc-d34ecdc55289",
   "metadata": {},
   "outputs": [
    {
     "data": {
      "image/png": "[encoded data removed]",
      "text/plain": [
       "<Figure size 640x480 with 1 Axes>"
      ]
     },
     "metadata": {},
     "output_type": "display_data"
    }
   ],
   "source": [
    "df2.boxplot()\n",
    "plt.show()"
   ]
  },
  {
   "cell_type": "code",
   "execution_count": 44,
   "id": "83270687-698c-4df6-9adb-96ef8da6a1e5",
   "metadata": {},
   "outputs": [],
   "source": [
    "z=(df2-df2.mean())/df2.std()"
   ]
  },
  {
   "cell_type": "code",
   "execution_count": 45,
   "id": "be4b0191-a83b-4bc5-90b6-2f3b1f4f9022",
   "metadata": {},
   "outputs": [],
   "source": [
    "df3=df2[(z>-2)&(z<2)]"
   ]
  },
  {
   "cell_type": "code",
   "execution_count": 46,
   "id": "114c29ae-d3dc-49ee-8ab1-a7fcb3eb4d1b",
   "metadata": {},
   "outputs": [
    {
     "data": {
      "image/png": "[encoded data removed]",
      "text/plain": [
       "<Figure size 640x480 with 1 Axes>"
      ]
     },
     "metadata": {},
     "output_type": "display_data"
    }
   ],
   "source": [
    "df3.boxplot()\n",
    "plt.show()"
   ]
  },
  {
   "cell_type": "code",
   "execution_count": 47,
   "id": "d58d3898-ab07-4262-9206-a4d8a95cb3f6",
   "metadata": {},
   "outputs": [
    {
     "data": {
      "text/plain": [
       "Id                         0\n",
       "Maker                      0\n",
       "model                      0\n",
       "Location                   0\n",
       "Distance                4252\n",
       "Owner Type                 0\n",
       "manufacture_year        5832\n",
       "Age of car              5832\n",
       "engine_displacement     6224\n",
       "engine_power            6848\n",
       "Vroom Audit Rating         0\n",
       "transmission               0\n",
       "door_count             19707\n",
       "seat_count             14691\n",
       "fuel_type                  0\n",
       "Price                   6983\n",
       "dtype: int64"
      ]
     },
     "execution_count": 47,
     "metadata": {},
     "output_type": "execute_result"
    }
   ],
   "source": [
    "df3.isnull().sum()"
   ]
  },
  {
   "cell_type": "code",
   "execution_count": 48,
   "id": "0ee5ac5e-a12f-47fa-8157-5af06ae93c59",
   "metadata": {},
   "outputs": [],
   "source": [
    "df3.dropna(inplace=True)"
   ]
  },
  {
   "cell_type": "code",
   "execution_count": 49,
   "id": "777604ae-d235-4d1c-a32d-752967c49d8a",
   "metadata": {},
   "outputs": [
    {
     "data": {
      "text/plain": [
       "Id                     0\n",
       "Maker                  0\n",
       "model                  0\n",
       "Location               0\n",
       "Distance               0\n",
       "Owner Type             0\n",
       "manufacture_year       0\n",
       "Age of car             0\n",
       "engine_displacement    0\n",
       "engine_power           0\n",
       "Vroom Audit Rating     0\n",
       "transmission           0\n",
       "door_count             0\n",
       "seat_count             0\n",
       "fuel_type              0\n",
       "Price                  0\n",
       "dtype: int64"
      ]
     },
     "execution_count": 49,
     "metadata": {},
     "output_type": "execute_result"
    }
   ],
   "source": [
    "df3.isnull().sum()"
   ]
  },
  {
   "cell_type": "code",
   "execution_count": 50,
   "id": "0347e943-c10b-45d4-9f3f-69f1bfd96f00",
   "metadata": {},
   "outputs": [
    {
     "data": {
      "text/plain": [
       "(19792, 16)"
      ]
     },
     "execution_count": 50,
     "metadata": {},
     "output_type": "execute_result"
    }
   ],
   "source": [
    "df3.shape"
   ]
  },
  {
   "cell_type": "code",
   "execution_count": 51,
   "id": "2e01e4b1-4f7f-4b85-8052-ae5c4fc66ea1",
   "metadata": {},
   "outputs": [],
   "source": [
    "from sklearn.preprocessing import StandardScaler\n",
    "ss=StandardScaler()"
   ]
  },
  {
   "cell_type": "code",
   "execution_count": 52,
   "id": "9295b594-6505-4d4d-bdde-2aab1f727bff",
   "metadata": {},
   "outputs": [],
   "source": [
    "data=pd.DataFrame(ss.fit_transform(df3),columns=df3.columns)"
   ]
  },
  {
   "cell_type": "code",
   "execution_count": 53,
   "id": "b8dee64c-1bed-435e-8c8e-b8c51e4af392",
   "metadata": {},
   "outputs": [
    {
     "data": {
      "text/html": [
       "<div>\n",
       "<style scoped>\n",
       "    .dataframe tbody tr th:only-of-type {\n",
       "        vertical-align: middle;\n",
       "    }\n",
       "\n",
       "    .dataframe tbody tr th {\n",
       "        vertical-align: top;\n",
       "    }\n",
       "\n",
       "    .dataframe thead th {\n",
       "        text-align: right;\n",
       "    }\n",
       "</style>\n",
       "<table border=\"1\" class=\"dataframe\">\n",
       "  <thead>\n",
       "    <tr style=\"text-align: right;\">\n",
       "      <th></th>\n",
       "      <th>Id</th>\n",
       "      <th>Maker</th>\n",
       "      <th>model</th>\n",
       "      <th>Location</th>\n",
       "      <th>Distance</th>\n",
       "      <th>Owner Type</th>\n",
       "      <th>manufacture_year</th>\n",
       "      <th>Age of car</th>\n",
       "      <th>engine_displacement</th>\n",
       "      <th>engine_power</th>\n",
       "      <th>Vroom Audit Rating</th>\n",
       "      <th>transmission</th>\n",
       "      <th>door_count</th>\n",
       "      <th>seat_count</th>\n",
       "      <th>fuel_type</th>\n",
       "      <th>Price</th>\n",
       "    </tr>\n",
       "  </thead>\n",
       "  <tbody>\n",
       "    <tr>\n",
       "      <th>0</th>\n",
       "      <td>-1.741111</td>\n",
       "      <td>0.057313</td>\n",
       "      <td>-0.852857</td>\n",
       "      <td>1.257948</td>\n",
       "      <td>-0.252008</td>\n",
       "      <td>1.335797</td>\n",
       "      <td>-0.375196</td>\n",
       "      <td>0.375196</td>\n",
       "      <td>-0.053511</td>\n",
       "      <td>2.070227</td>\n",
       "      <td>0.708879</td>\n",
       "      <td>0.552134</td>\n",
       "      <td>0.0</td>\n",
       "      <td>0.0</td>\n",
       "      <td>0.995664</td>\n",
       "      <td>-0.180869</td>\n",
       "    </tr>\n",
       "    <tr>\n",
       "      <th>1</th>\n",
       "      <td>-1.740981</td>\n",
       "      <td>0.515634</td>\n",
       "      <td>-0.549365</td>\n",
       "      <td>-0.954388</td>\n",
       "      <td>-0.842436</td>\n",
       "      <td>-1.341659</td>\n",
       "      <td>1.063789</td>\n",
       "      <td>-1.063789</td>\n",
       "      <td>1.023444</td>\n",
       "      <td>0.798729</td>\n",
       "      <td>-1.397536</td>\n",
       "      <td>0.552134</td>\n",
       "      <td>0.0</td>\n",
       "      <td>0.0</td>\n",
       "      <td>-1.004355</td>\n",
       "      <td>1.215133</td>\n",
       "    </tr>\n",
       "    <tr>\n",
       "      <th>2</th>\n",
       "      <td>-1.740787</td>\n",
       "      <td>0.057313</td>\n",
       "      <td>0.209363</td>\n",
       "      <td>-0.638340</td>\n",
       "      <td>-0.743335</td>\n",
       "      <td>-1.341659</td>\n",
       "      <td>1.063789</td>\n",
       "      <td>-1.063789</td>\n",
       "      <td>-0.108897</td>\n",
       "      <td>0.205363</td>\n",
       "      <td>-0.695398</td>\n",
       "      <td>0.552134</td>\n",
       "      <td>0.0</td>\n",
       "      <td>0.0</td>\n",
       "      <td>-1.004355</td>\n",
       "      <td>0.780319</td>\n",
       "    </tr>\n",
       "    <tr>\n",
       "      <th>3</th>\n",
       "      <td>-1.740463</td>\n",
       "      <td>0.973955</td>\n",
       "      <td>-1.459840</td>\n",
       "      <td>-1.586483</td>\n",
       "      <td>-1.064397</td>\n",
       "      <td>-0.449174</td>\n",
       "      <td>1.063789</td>\n",
       "      <td>-1.063789</td>\n",
       "      <td>-1.961259</td>\n",
       "      <td>-1.701885</td>\n",
       "      <td>-1.397536</td>\n",
       "      <td>0.552134</td>\n",
       "      <td>0.0</td>\n",
       "      <td>0.0</td>\n",
       "      <td>0.995664</td>\n",
       "      <td>-0.624000</td>\n",
       "    </tr>\n",
       "    <tr>\n",
       "      <th>4</th>\n",
       "      <td>-1.740268</td>\n",
       "      <td>0.515634</td>\n",
       "      <td>1.575075</td>\n",
       "      <td>-1.270435</td>\n",
       "      <td>-1.062733</td>\n",
       "      <td>-1.341659</td>\n",
       "      <td>1.063789</td>\n",
       "      <td>-1.063789</td>\n",
       "      <td>-1.348934</td>\n",
       "      <td>-0.430386</td>\n",
       "      <td>-0.695398</td>\n",
       "      <td>0.552134</td>\n",
       "      <td>0.0</td>\n",
       "      <td>0.0</td>\n",
       "      <td>0.995664</td>\n",
       "      <td>0.328241</td>\n",
       "    </tr>\n",
       "    <tr>\n",
       "      <th>...</th>\n",
       "      <td>...</td>\n",
       "      <td>...</td>\n",
       "      <td>...</td>\n",
       "      <td>...</td>\n",
       "      <td>...</td>\n",
       "      <td>...</td>\n",
       "      <td>...</td>\n",
       "      <td>...</td>\n",
       "      <td>...</td>\n",
       "      <td>...</td>\n",
       "      <td>...</td>\n",
       "      <td>...</td>\n",
       "      <td>...</td>\n",
       "      <td>...</td>\n",
       "      <td>...</td>\n",
       "      <td>...</td>\n",
       "    </tr>\n",
       "    <tr>\n",
       "      <th>19787</th>\n",
       "      <td>1.729064</td>\n",
       "      <td>0.973955</td>\n",
       "      <td>-1.763331</td>\n",
       "      <td>0.941900</td>\n",
       "      <td>-0.509393</td>\n",
       "      <td>-1.341659</td>\n",
       "      <td>0.704043</td>\n",
       "      <td>-0.704043</td>\n",
       "      <td>0.500351</td>\n",
       "      <td>-0.769453</td>\n",
       "      <td>-1.397536</td>\n",
       "      <td>-1.811153</td>\n",
       "      <td>0.0</td>\n",
       "      <td>0.0</td>\n",
       "      <td>0.995664</td>\n",
       "      <td>0.689499</td>\n",
       "    </tr>\n",
       "    <tr>\n",
       "      <th>19788</th>\n",
       "      <td>1.729194</td>\n",
       "      <td>-2.234292</td>\n",
       "      <td>-0.094128</td>\n",
       "      <td>1.257948</td>\n",
       "      <td>2.193183</td>\n",
       "      <td>1.335797</td>\n",
       "      <td>-0.015450</td>\n",
       "      <td>0.015450</td>\n",
       "      <td>1.023444</td>\n",
       "      <td>1.222562</td>\n",
       "      <td>0.708879</td>\n",
       "      <td>0.552134</td>\n",
       "      <td>0.0</td>\n",
       "      <td>0.0</td>\n",
       "      <td>-1.004355</td>\n",
       "      <td>1.999186</td>\n",
       "    </tr>\n",
       "    <tr>\n",
       "      <th>19789</th>\n",
       "      <td>1.729388</td>\n",
       "      <td>0.515634</td>\n",
       "      <td>0.361109</td>\n",
       "      <td>-0.322292</td>\n",
       "      <td>-0.860592</td>\n",
       "      <td>-1.341659</td>\n",
       "      <td>1.063789</td>\n",
       "      <td>-1.063789</td>\n",
       "      <td>-1.348934</td>\n",
       "      <td>-0.599920</td>\n",
       "      <td>-0.695398</td>\n",
       "      <td>0.552134</td>\n",
       "      <td>0.0</td>\n",
       "      <td>0.0</td>\n",
       "      <td>0.995664</td>\n",
       "      <td>-0.140465</td>\n",
       "    </tr>\n",
       "    <tr>\n",
       "      <th>19790</th>\n",
       "      <td>1.729518</td>\n",
       "      <td>0.515634</td>\n",
       "      <td>0.361109</td>\n",
       "      <td>1.257948</td>\n",
       "      <td>-1.064397</td>\n",
       "      <td>-0.449174</td>\n",
       "      <td>1.063789</td>\n",
       "      <td>-1.063789</td>\n",
       "      <td>-1.348934</td>\n",
       "      <td>-0.599920</td>\n",
       "      <td>-1.397536</td>\n",
       "      <td>0.552134</td>\n",
       "      <td>0.0</td>\n",
       "      <td>0.0</td>\n",
       "      <td>0.995664</td>\n",
       "      <td>-0.527975</td>\n",
       "    </tr>\n",
       "    <tr>\n",
       "      <th>19791</th>\n",
       "      <td>1.729842</td>\n",
       "      <td>0.515634</td>\n",
       "      <td>-0.549365</td>\n",
       "      <td>-0.322292</td>\n",
       "      <td>-0.522225</td>\n",
       "      <td>-0.449174</td>\n",
       "      <td>0.704043</td>\n",
       "      <td>-0.704043</td>\n",
       "      <td>-0.115051</td>\n",
       "      <td>-0.599920</td>\n",
       "      <td>-1.397536</td>\n",
       "      <td>0.552134</td>\n",
       "      <td>0.0</td>\n",
       "      <td>0.0</td>\n",
       "      <td>-1.004355</td>\n",
       "      <td>0.736220</td>\n",
       "    </tr>\n",
       "  </tbody>\n",
       "</table>\n",
       "<p>19792 rows × 16 columns</p>\n",
       "</div>"
      ],
      "text/plain": [
       "             Id     Maker     model  Location  Distance   Owner Type  \\\n",
       "0     -1.741111  0.057313 -0.852857  1.257948  -0.252008    1.335797   \n",
       "1     -1.740981  0.515634 -0.549365 -0.954388  -0.842436   -1.341659   \n",
       "2     -1.740787  0.057313  0.209363 -0.638340  -0.743335   -1.341659   \n",
       "3     -1.740463  0.973955 -1.459840 -1.586483  -1.064397   -0.449174   \n",
       "4     -1.740268  0.515634  1.575075 -1.270435  -1.062733   -1.341659   \n",
       "...         ...       ...       ...       ...        ...         ...   \n",
       "19787  1.729064  0.973955 -1.763331  0.941900  -0.509393   -1.341659   \n",
       "19788  1.729194 -2.234292 -0.094128  1.257948   2.193183    1.335797   \n",
       "19789  1.729388  0.515634  0.361109 -0.322292  -0.860592   -1.341659   \n",
       "19790  1.729518  0.515634  0.361109  1.257948  -1.064397   -0.449174   \n",
       "19791  1.729842  0.515634 -0.549365 -0.322292  -0.522225   -0.449174   \n",
       "\n",
       "       manufacture_year  Age of car  engine_displacement  engine_power  \\\n",
       "0             -0.375196    0.375196            -0.053511      2.070227   \n",
       "1              1.063789   -1.063789             1.023444      0.798729   \n",
       "2              1.063789   -1.063789            -0.108897      0.205363   \n",
       "3              1.063789   -1.063789            -1.961259     -1.701885   \n",
       "4              1.063789   -1.063789            -1.348934     -0.430386   \n",
       "...                 ...         ...                  ...           ...   \n",
       "19787          0.704043   -0.704043             0.500351     -0.769453   \n",
       "19788         -0.015450    0.015450             1.023444      1.222562   \n",
       "19789          1.063789   -1.063789            -1.348934     -0.599920   \n",
       "19790          1.063789   -1.063789            -1.348934     -0.599920   \n",
       "19791          0.704043   -0.704043            -0.115051     -0.599920   \n",
       "\n",
       "       Vroom Audit Rating  transmission  door_count  seat_count  fuel_type  \\\n",
       "0                0.708879      0.552134         0.0         0.0   0.995664   \n",
       "1               -1.397536      0.552134         0.0         0.0  -1.004355   \n",
       "2               -0.695398      0.552134         0.0         0.0  -1.004355   \n",
       "3               -1.397536      0.552134         0.0         0.0   0.995664   \n",
       "4               -0.695398      0.552134         0.0         0.0   0.995664   \n",
       "...                   ...           ...         ...         ...        ...   \n",
       "19787           -1.397536     -1.811153         0.0         0.0   0.995664   \n",
       "19788            0.708879      0.552134         0.0         0.0  -1.004355   \n",
       "19789           -0.695398      0.552134         0.0         0.0   0.995664   \n",
       "19790           -1.397536      0.552134         0.0         0.0   0.995664   \n",
       "19791           -1.397536      0.552134         0.0         0.0  -1.004355   \n",
       "\n",
       "          Price  \n",
       "0     -0.180869  \n",
       "1      1.215133  \n",
       "2      0.780319  \n",
       "3     -0.624000  \n",
       "4      0.328241  \n",
       "...         ...  \n",
       "19787  0.689499  \n",
       "19788  1.999186  \n",
       "19789 -0.140465  \n",
       "19790 -0.527975  \n",
       "19791  0.736220  \n",
       "\n",
       "[19792 rows x 16 columns]"
      ]
     },
     "execution_count": 53,
     "metadata": {},
     "output_type": "execute_result"
    }
   ],
   "source": [
    "data"
   ]
  },
  {
   "cell_type": "code",
   "execution_count": 54,
   "id": "b9be767e-81fd-45db-951b-2615075b986d",
   "metadata": {},
   "outputs": [
    {
     "data": {
      "text/plain": [
       "Index(['Id', 'Maker', 'model', 'Location', 'Distance ', 'Owner Type',\n",
       "       'manufacture_year', 'Age of car', 'engine_displacement', 'engine_power',\n",
       "       'Vroom Audit Rating', 'transmission', 'door_count', 'seat_count',\n",
       "       'fuel_type', 'Price'],\n",
       "      dtype='object')"
      ]
     },
     "execution_count": 54,
     "metadata": {},
     "output_type": "execute_result"
    }
   ],
   "source": [
    "data.columns"
   ]
  },
  {
   "cell_type": "code",
   "execution_count": 55,
   "id": "dd9eb4b5-b6a2-4e76-b487-8b894167a38f",
   "metadata": {},
   "outputs": [],
   "source": [
    "X=data[['Id', 'Maker', 'model', 'Location', 'Distance ', 'Owner Type',\n",
    "       'manufacture_year', 'Age of car', 'engine_displacement', 'engine_power',\n",
    "       'Vroom Audit Rating', 'transmission', 'fuel_type','seat_count','door_count']]\n",
    "y=data['Price']"
   ]
  },
  {
   "cell_type": "code",
   "execution_count": 56,
   "id": "f2a4ccc3-f49e-432e-810c-ceaffa839b28",
   "metadata": {},
   "outputs": [],
   "source": [
    "from sklearn.linear_model import LinearRegression\n",
    "model=LinearRegression()"
   ]
  },
  {
   "cell_type": "code",
   "execution_count": 57,
   "id": "165c9e80-9072-4a18-8b66-f5d511da43bb",
   "metadata": {},
   "outputs": [
    {
     "data": {
      "text/html": [
       "<style>#sk-container-id-1 {\n",
       "  /* Definition of color scheme common for light and dark mode */\n",
       "  --sklearn-color-text: black;\n",
       "  --sklearn-color-line: gray;\n",
       "  /* Definition of color scheme for unfitted estimators */\n",
       "  --sklearn-color-unfitted-level-0: #fff5e6;\n",
       "  --sklearn-color-unfitted-level-1: #f6e4d2;\n",
       "  --sklearn-color-unfitted-level-2: #ffe0b3;\n",
       "  --sklearn-color-unfitted-level-3: chocolate;\n",
       "  /* Definition of color scheme for fitted estimators */\n",
       "  --sklearn-color-fitted-level-0: #f0f8ff;\n",
       "  --sklearn-color-fitted-level-1: #d4ebff;\n",
       "  --sklearn-color-fitted-level-2: #b3dbfd;\n",
       "  --sklearn-color-fitted-level-3: cornflowerblue;\n",
       "\n",
       "  /* Specific color for light theme */\n",
       "  --sklearn-color-text-on-default-background: var(--sg-text-color, var(--theme-code-foreground, var(--jp-content-font-color1, black)));\n",
       "  --sklearn-color-background: var(--sg-background-color, var(--theme-background, var(--jp-layout-color0, white)));\n",
       "  --sklearn-color-border-box: var(--sg-text-color, var(--theme-code-foreground, var(--jp-content-font-color1, black)));\n",
       "  --sklearn-color-icon: #696969;\n",
       "\n",
       "  @media (prefers-color-scheme: dark) {\n",
       "    /* Redefinition of color scheme for dark theme */\n",
       "    --sklearn-color-text-on-default-background: var(--sg-text-color, var(--theme-code-foreground, var(--jp-content-font-color1, white)));\n",
       "    --sklearn-color-background: var(--sg-background-color, var(--theme-background, var(--jp-layout-color0, #111)));\n",
       "    --sklearn-color-border-box: var(--sg-text-color, var(--theme-code-foreground, var(--jp-content-font-color1, white)));\n",
       "    --sklearn-color-icon: #878787;\n",
       "  }\n",
       "}\n",
       "\n",
       "#sk-container-id-1 {\n",
       "  color: var(--sklearn-color-text);\n",
       "}\n",
       "\n",
       "#sk-container-id-1 pre {\n",
       "  padding: 0;\n",
       "}\n",
       "\n",
       "#sk-container-id-1 input.sk-hidden--visually {\n",
       "  border: 0;\n",
       "  clip: rect(1px 1px 1px 1px);\n",
       "  clip: rect(1px, 1px, 1px, 1px);\n",
       "  height: 1px;\n",
       "  margin: -1px;\n",
       "  overflow: hidden;\n",
       "  padding: 0;\n",
       "  position: absolute;\n",
       "  width: 1px;\n",
       "}\n",
       "\n",
       "#sk-container-id-1 div.sk-dashed-wrapped {\n",
       "  border: 1px dashed var(--sklearn-color-line);\n",
       "  margin: 0 0.4em 0.5em 0.4em;\n",
       "  box-sizing: border-box;\n",
       "  padding-bottom: 0.4em;\n",
       "  background-color: var(--sklearn-color-background);\n",
       "}\n",
       "\n",
       "#sk-container-id-1 div.sk-container {\n",
       "  /* jupyter's `normalize.less` sets `[hidden] { display: none; }`\n",
       "     but bootstrap.min.css set `[hidden] { display: none !important; }`\n",
       "     so we also need the `!important` here to be able to override the\n",
       "     default hidden behavior on the sphinx rendered scikit-learn.org.\n",
       "     See: https://github.com/scikit-learn/scikit-learn/issues/21755 */\n",
       "  display: inline-block !important;\n",
       "  position: relative;\n",
       "}\n",
       "\n",
       "#sk-container-id-1 div.sk-text-repr-fallback {\n",
       "  display: none;\n",
       "}\n",
       "\n",
       "div.sk-parallel-item,\n",
       "div.sk-serial,\n",
       "div.sk-item {\n",
       "  /* draw centered vertical line to link estimators */\n",
       "  background-image: linear-gradient(var(--sklearn-color-text-on-default-background), var(--sklearn-color-text-on-default-background));\n",
       "  background-size: 2px 100%;\n",
       "  background-repeat: no-repeat;\n",
       "  background-position: center center;\n",
       "}\n",
       "\n",
       "/* Parallel-specific style estimator block */\n",
       "\n",
       "#sk-container-id-1 div.sk-parallel-item::after {\n",
       "  content: \"\";\n",
       "  width: 100%;\n",
       "  border-bottom: 2px solid var(--sklearn-color-text-on-default-background);\n",
       "  flex-grow: 1;\n",
       "}\n",
       "\n",
       "#sk-container-id-1 div.sk-parallel {\n",
       "  display: flex;\n",
       "  align-items: stretch;\n",
       "  justify-content: center;\n",
       "  background-color: var(--sklearn-color-background);\n",
       "  position: relative;\n",
       "}\n",
       "\n",
       "#sk-container-id-1 div.sk-parallel-item {\n",
       "  display: flex;\n",
       "  flex-direction: column;\n",
       "}\n",
       "\n",
       "#sk-container-id-1 div.sk-parallel-item:first-child::after {\n",
       "  align-self: flex-end;\n",
       "  width: 50%;\n",
       "}\n",
       "\n",
       "#sk-container-id-1 div.sk-parallel-item:last-child::after {\n",
       "  align-self: flex-start;\n",
       "  width: 50%;\n",
       "}\n",
       "\n",
       "#sk-container-id-1 div.sk-parallel-item:only-child::after {\n",
       "  width: 0;\n",
       "}\n",
       "\n",
       "/* Serial-specific style estimator block */\n",
       "\n",
       "#sk-container-id-1 div.sk-serial {\n",
       "  display: flex;\n",
       "  flex-direction: column;\n",
       "  align-items: center;\n",
       "  background-color: var(--sklearn-color-background);\n",
       "  padding-right: 1em;\n",
       "  padding-left: 1em;\n",
       "}\n",
       "\n",
       "\n",
       "/* Toggleable style: style used for estimator/Pipeline/ColumnTransformer box that is\n",
       "clickable and can be expanded/collapsed.\n",
       "- Pipeline and ColumnTransformer use this feature and define the default style\n",
       "- Estimators will overwrite some part of the style using the `sk-estimator` class\n",
       "*/\n",
       "\n",
       "/* Pipeline and ColumnTransformer style (default) */\n",
       "\n",
       "#sk-container-id-1 div.sk-toggleable {\n",
       "  /* Default theme specific background. It is overwritten whether we have a\n",
       "  specific estimator or a Pipeline/ColumnTransformer */\n",
       "  background-color: var(--sklearn-color-background);\n",
       "}\n",
       "\n",
       "/* Toggleable label */\n",
       "#sk-container-id-1 label.sk-toggleable__label {\n",
       "  cursor: pointer;\n",
       "  display: block;\n",
       "  width: 100%;\n",
       "  margin-bottom: 0;\n",
       "  padding: 0.5em;\n",
       "  box-sizing: border-box;\n",
       "  text-align: center;\n",
       "}\n",
       "\n",
       "#sk-container-id-1 label.sk-toggleable__label-arrow:before {\n",
       "  /* Arrow on the left of the label */\n",
       "  content: \"▸\";\n",
       "  float: left;\n",
       "  margin-right: 0.25em;\n",
       "  color: var(--sklearn-color-icon);\n",
       "}\n",
       "\n",
       "#sk-container-id-1 label.sk-toggleable__label-arrow:hover:before {\n",
       "  color: var(--sklearn-color-text);\n",
       "}\n",
       "\n",
       "/* Toggleable content - dropdown */\n",
       "\n",
       "#sk-container-id-1 div.sk-toggleable__content {\n",
       "  max-height: 0;\n",
       "  max-width: 0;\n",
       "  overflow: hidden;\n",
       "  text-align: left;\n",
       "  /* unfitted */\n",
       "  background-color: var(--sklearn-color-unfitted-level-0);\n",
       "}\n",
       "\n",
       "#sk-container-id-1 div.sk-toggleable__content.fitted {\n",
       "  /* fitted */\n",
       "  background-color: var(--sklearn-color-fitted-level-0);\n",
       "}\n",
       "\n",
       "#sk-container-id-1 div.sk-toggleable__content pre {\n",
       "  margin: 0.2em;\n",
       "  border-radius: 0.25em;\n",
       "  color: var(--sklearn-color-text);\n",
       "  /* unfitted */\n",
       "  background-color: var(--sklearn-color-unfitted-level-0);\n",
       "}\n",
       "\n",
       "#sk-container-id-1 div.sk-toggleable__content.fitted pre {\n",
       "  /* unfitted */\n",
       "  background-color: var(--sklearn-color-fitted-level-0);\n",
       "}\n",
       "\n",
       "#sk-container-id-1 input.sk-toggleable__control:checked~div.sk-toggleable__content {\n",
       "  /* Expand drop-down */\n",
       "  max-height: 200px;\n",
       "  max-width: 100%;\n",
       "  overflow: auto;\n",
       "}\n",
       "\n",
       "#sk-container-id-1 input.sk-toggleable__control:checked~label.sk-toggleable__label-arrow:before {\n",
       "  content: \"▾\";\n",
       "}\n",
       "\n",
       "/* Pipeline/ColumnTransformer-specific style */\n",
       "\n",
       "#sk-container-id-1 div.sk-label input.sk-toggleable__control:checked~label.sk-toggleable__label {\n",
       "  color: var(--sklearn-color-text);\n",
       "  background-color: var(--sklearn-color-unfitted-level-2);\n",
       "}\n",
       "\n",
       "#sk-container-id-1 div.sk-label.fitted input.sk-toggleable__control:checked~label.sk-toggleable__label {\n",
       "  background-color: var(--sklearn-color-fitted-level-2);\n",
       "}\n",
       "\n",
       "/* Estimator-specific style */\n",
       "\n",
       "/* Colorize estimator box */\n",
       "#sk-container-id-1 div.sk-estimator input.sk-toggleable__control:checked~label.sk-toggleable__label {\n",
       "  /* unfitted */\n",
       "  background-color: var(--sklearn-color-unfitted-level-2);\n",
       "}\n",
       "\n",
       "#sk-container-id-1 div.sk-estimator.fitted input.sk-toggleable__control:checked~label.sk-toggleable__label {\n",
       "  /* fitted */\n",
       "  background-color: var(--sklearn-color-fitted-level-2);\n",
       "}\n",
       "\n",
       "#sk-container-id-1 div.sk-label label.sk-toggleable__label,\n",
       "#sk-container-id-1 div.sk-label label {\n",
       "  /* The background is the default theme color */\n",
       "  color: var(--sklearn-color-text-on-default-background);\n",
       "}\n",
       "\n",
       "/* On hover, darken the color of the background */\n",
       "#sk-container-id-1 div.sk-label:hover label.sk-toggleable__label {\n",
       "  color: var(--sklearn-color-text);\n",
       "  background-color: var(--sklearn-color-unfitted-level-2);\n",
       "}\n",
       "\n",
       "/* Label box, darken color on hover, fitted */\n",
       "#sk-container-id-1 div.sk-label.fitted:hover label.sk-toggleable__label.fitted {\n",
       "  color: var(--sklearn-color-text);\n",
       "  background-color: var(--sklearn-color-fitted-level-2);\n",
       "}\n",
       "\n",
       "/* Estimator label */\n",
       "\n",
       "#sk-container-id-1 div.sk-label label {\n",
       "  font-family: monospace;\n",
       "  font-weight: bold;\n",
       "  display: inline-block;\n",
       "  line-height: 1.2em;\n",
       "}\n",
       "\n",
       "#sk-container-id-1 div.sk-label-container {\n",
       "  text-align: center;\n",
       "}\n",
       "\n",
       "/* Estimator-specific */\n",
       "#sk-container-id-1 div.sk-estimator {\n",
       "  font-family: monospace;\n",
       "  border: 1px dotted var(--sklearn-color-border-box);\n",
       "  border-radius: 0.25em;\n",
       "  box-sizing: border-box;\n",
       "  margin-bottom: 0.5em;\n",
       "  /* unfitted */\n",
       "  background-color: var(--sklearn-color-unfitted-level-0);\n",
       "}\n",
       "\n",
       "#sk-container-id-1 div.sk-estimator.fitted {\n",
       "  /* fitted */\n",
       "  background-color: var(--sklearn-color-fitted-level-0);\n",
       "}\n",
       "\n",
       "/* on hover */\n",
       "#sk-container-id-1 div.sk-estimator:hover {\n",
       "  /* unfitted */\n",
       "  background-color: var(--sklearn-color-unfitted-level-2);\n",
       "}\n",
       "\n",
       "#sk-container-id-1 div.sk-estimator.fitted:hover {\n",
       "  /* fitted */\n",
       "  background-color: var(--sklearn-color-fitted-level-2);\n",
       "}\n",
       "\n",
       "/* Specification for estimator info (e.g. \"i\" and \"?\") */\n",
       "\n",
       "/* Common style for \"i\" and \"?\" */\n",
       "\n",
       ".sk-estimator-doc-link,\n",
       "a:link.sk-estimator-doc-link,\n",
       "a:visited.sk-estimator-doc-link {\n",
       "  float: right;\n",
       "  font-size: smaller;\n",
       "  line-height: 1em;\n",
       "  font-family: monospace;\n",
       "  background-color: var(--sklearn-color-background);\n",
       "  border-radius: 1em;\n",
       "  height: 1em;\n",
       "  width: 1em;\n",
       "  text-decoration: none !important;\n",
       "  margin-left: 1ex;\n",
       "  /* unfitted */\n",
       "  border: var(--sklearn-color-unfitted-level-1) 1pt solid;\n",
       "  color: var(--sklearn-color-unfitted-level-1);\n",
       "}\n",
       "\n",
       ".sk-estimator-doc-link.fitted,\n",
       "a:link.sk-estimator-doc-link.fitted,\n",
       "a:visited.sk-estimator-doc-link.fitted {\n",
       "  /* fitted */\n",
       "  border: var(--sklearn-color-fitted-level-1) 1pt solid;\n",
       "  color: var(--sklearn-color-fitted-level-1);\n",
       "}\n",
       "\n",
       "/* On hover */\n",
       "div.sk-estimator:hover .sk-estimator-doc-link:hover,\n",
       ".sk-estimator-doc-link:hover,\n",
       "div.sk-label-container:hover .sk-estimator-doc-link:hover,\n",
       ".sk-estimator-doc-link:hover {\n",
       "  /* unfitted */\n",
       "  background-color: var(--sklearn-color-unfitted-level-3);\n",
       "  color: var(--sklearn-color-background);\n",
       "  text-decoration: none;\n",
       "}\n",
       "\n",
       "div.sk-estimator.fitted:hover .sk-estimator-doc-link.fitted:hover,\n",
       ".sk-estimator-doc-link.fitted:hover,\n",
       "div.sk-label-container:hover .sk-estimator-doc-link.fitted:hover,\n",
       ".sk-estimator-doc-link.fitted:hover {\n",
       "  /* fitted */\n",
       "  background-color: var(--sklearn-color-fitted-level-3);\n",
       "  color: var(--sklearn-color-background);\n",
       "  text-decoration: none;\n",
       "}\n",
       "\n",
       "/* Span, style for the box shown on hovering the info icon */\n",
       ".sk-estimator-doc-link span {\n",
       "  display: none;\n",
       "  z-index: 9999;\n",
       "  position: relative;\n",
       "  font-weight: normal;\n",
       "  right: .2ex;\n",
       "  padding: .5ex;\n",
       "  margin: .5ex;\n",
       "  width: min-content;\n",
       "  min-width: 20ex;\n",
       "  max-width: 50ex;\n",
       "  color: var(--sklearn-color-text);\n",
       "  box-shadow: 2pt 2pt 4pt #999;\n",
       "  /* unfitted */\n",
       "  background: var(--sklearn-color-unfitted-level-0);\n",
       "  border: .5pt solid var(--sklearn-color-unfitted-level-3);\n",
       "}\n",
       "\n",
       ".sk-estimator-doc-link.fitted span {\n",
       "  /* fitted */\n",
       "  background: var(--sklearn-color-fitted-level-0);\n",
       "  border: var(--sklearn-color-fitted-level-3);\n",
       "}\n",
       "\n",
       ".sk-estimator-doc-link:hover span {\n",
       "  display: block;\n",
       "}\n",
       "\n",
       "/* \"?\"-specific style due to the `<a>` HTML tag */\n",
       "\n",
       "#sk-container-id-1 a.estimator_doc_link {\n",
       "  float: right;\n",
       "  font-size: 1rem;\n",
       "  line-height: 1em;\n",
       "  font-family: monospace;\n",
       "  background-color: var(--sklearn-color-background);\n",
       "  border-radius: 1rem;\n",
       "  height: 1rem;\n",
       "  width: 1rem;\n",
       "  text-decoration: none;\n",
       "  /* unfitted */\n",
       "  color: var(--sklearn-color-unfitted-level-1);\n",
       "  border: var(--sklearn-color-unfitted-level-1) 1pt solid;\n",
       "}\n",
       "\n",
       "#sk-container-id-1 a.estimator_doc_link.fitted {\n",
       "  /* fitted */\n",
       "  border: var(--sklearn-color-fitted-level-1) 1pt solid;\n",
       "  color: var(--sklearn-color-fitted-level-1);\n",
       "}\n",
       "\n",
       "/* On hover */\n",
       "#sk-container-id-1 a.estimator_doc_link:hover {\n",
       "  /* unfitted */\n",
       "  background-color: var(--sklearn-color-unfitted-level-3);\n",
       "  color: var(--sklearn-color-background);\n",
       "  text-decoration: none;\n",
       "}\n",
       "\n",
       "#sk-container-id-1 a.estimator_doc_link.fitted:hover {\n",
       "  /* fitted */\n",
       "  background-color: var(--sklearn-color-fitted-level-3);\n",
       "}\n",
       "</style><div id=\"sk-container-id-1\" class=\"sk-top-container\"><div class=\"sk-text-repr-fallback\"><pre>LinearRegression()</pre><b>In a Jupyter environment, please rerun this cell to show the HTML representation or trust the notebook. <br />On GitHub, the HTML representation is unable to render, please try loading this page with nbviewer.org.</b></div><div class=\"sk-container\" hidden><div class=\"sk-item\"><div class=\"sk-estimator fitted sk-toggleable\"><input class=\"sk-toggleable__control sk-hidden--visually\" id=\"sk-estimator-id-1\" type=\"checkbox\" checked><label for=\"sk-estimator-id-1\" class=\"sk-toggleable__label fitted sk-toggleable__label-arrow fitted\">&nbsp;&nbsp;LinearRegression<a class=\"sk-estimator-doc-link fitted\" rel=\"noreferrer\" target=\"_blank\" href=\"https://scikit-learn.org/1.5/modules/generated/sklearn.linear_model.LinearRegression.html\">?<span>Documentation for LinearRegression</span></a><span class=\"sk-estimator-doc-link fitted\">i<span>Fitted</span></span></label><div class=\"sk-toggleable__content fitted\"><pre>LinearRegression()</pre></div> </div></div></div></div>"
      ],
      "text/plain": [
       "LinearRegression()"
      ]
     },
     "execution_count": 57,
     "metadata": {},
     "output_type": "execute_result"
    }
   ],
   "source": [
    "model.fit(X,y)"
   ]
  },
  {
   "cell_type": "code",
   "execution_count": 58,
   "id": "04bd13f8-f21d-4bc1-a801-2b6945c34e21",
   "metadata": {},
   "outputs": [
    {
     "data": {
      "text/plain": [
       "0.7938743272701085"
      ]
     },
     "execution_count": 58,
     "metadata": {},
     "output_type": "execute_result"
    }
   ],
   "source": [
    "model.score(X,y)"
   ]
  },
  {
   "cell_type": "code",
   "execution_count": 59,
   "id": "49c163a2-f4fa-4faa-af51-dad009bed3f7",
   "metadata": {},
   "outputs": [
    {
     "data": {
      "text/plain": [
       "array([ 0.00232616, -0.16434665,  0.09488156,  0.00159258, -0.37440959,\n",
       "        0.00227178,  0.17090213, -0.17090213,  0.11309737,  0.45805637,\n",
       "        0.00048827, -0.11514674, -0.14982083,  0.        ,  0.        ])"
      ]
     },
     "execution_count": 59,
     "metadata": {},
     "output_type": "execute_result"
    }
   ],
   "source": [
    "model.coef_"
   ]
  },
  {
   "cell_type": "code",
   "execution_count": 60,
   "id": "8a88ee0c-788f-40d9-ba3b-8786a27cfc32",
   "metadata": {},
   "outputs": [
    {
     "data": {
      "text/plain": [
       "np.float64(1.8303749654758434e-15)"
      ]
     },
     "execution_count": 60,
     "metadata": {},
     "output_type": "execute_result"
    }
   ],
   "source": [
    "model.intercept_"
   ]
  },
  {
   "cell_type": "code",
   "execution_count": 61,
   "id": "1ed0be0f-0704-40ac-868f-e88a85b3bed4",
   "metadata": {},
   "outputs": [],
   "source": [
    "y_predict=pd.DataFrame(model.predict(X))"
   ]
  },
  {
   "cell_type": "code",
   "execution_count": 62,
   "id": "bbc0aa23-3684-48d4-887a-db0f432461b3",
   "metadata": {},
   "outputs": [
    {
     "data": {
      "text/html": [
       "<div>\n",
       "<style scoped>\n",
       "    .dataframe tbody tr th:only-of-type {\n",
       "        vertical-align: middle;\n",
       "    }\n",
       "\n",
       "    .dataframe tbody tr th {\n",
       "        vertical-align: top;\n",
       "    }\n",
       "\n",
       "    .dataframe thead th {\n",
       "        text-align: right;\n",
       "    }\n",
       "</style>\n",
       "<table border=\"1\" class=\"dataframe\">\n",
       "  <thead>\n",
       "    <tr style=\"text-align: right;\">\n",
       "      <th></th>\n",
       "      <th>0</th>\n",
       "    </tr>\n",
       "  </thead>\n",
       "  <tbody>\n",
       "    <tr>\n",
       "      <th>0</th>\n",
       "      <td>0.606586</td>\n",
       "    </tr>\n",
       "    <tr>\n",
       "      <th>1</th>\n",
       "      <td>1.101365</td>\n",
       "    </tr>\n",
       "    <tr>\n",
       "      <th>2</th>\n",
       "      <td>0.812560</td>\n",
       "    </tr>\n",
       "    <tr>\n",
       "      <th>3</th>\n",
       "      <td>-0.758848</td>\n",
       "    </tr>\n",
       "    <tr>\n",
       "      <th>4</th>\n",
       "      <td>0.254299</td>\n",
       "    </tr>\n",
       "    <tr>\n",
       "      <th>...</th>\n",
       "      <td>...</td>\n",
       "    </tr>\n",
       "    <tr>\n",
       "      <th>19787</th>\n",
       "      <td>-0.130703</td>\n",
       "    </tr>\n",
       "    <tr>\n",
       "      <th>19788</th>\n",
       "      <td>0.303892</td>\n",
       "    </tr>\n",
       "    <tr>\n",
       "      <th>19789</th>\n",
       "      <td>-0.004642</td>\n",
       "    </tr>\n",
       "    <tr>\n",
       "      <th>19790</th>\n",
       "      <td>0.075866</td>\n",
       "    </tr>\n",
       "    <tr>\n",
       "      <th>19791</th>\n",
       "      <td>0.100199</td>\n",
       "    </tr>\n",
       "  </tbody>\n",
       "</table>\n",
       "<p>19792 rows × 1 columns</p>\n",
       "</div>"
      ],
      "text/plain": [
       "              0\n",
       "0      0.606586\n",
       "1      1.101365\n",
       "2      0.812560\n",
       "3     -0.758848\n",
       "4      0.254299\n",
       "...         ...\n",
       "19787 -0.130703\n",
       "19788  0.303892\n",
       "19789 -0.004642\n",
       "19790  0.075866\n",
       "19791  0.100199\n",
       "\n",
       "[19792 rows x 1 columns]"
      ]
     },
     "execution_count": 62,
     "metadata": {},
     "output_type": "execute_result"
    }
   ],
   "source": [
    "y_predict"
   ]
  },
  {
   "cell_type": "code",
   "execution_count": 63,
   "id": "8dbbb037-f907-4a2e-999b-c201cf7ab2d2",
   "metadata": {},
   "outputs": [],
   "source": [
    "from sklearn.metrics import mean_squared_error"
   ]
  },
  {
   "cell_type": "code",
   "execution_count": 64,
   "id": "cb3c000f-892a-4a79-87e2-0e89479e8caa",
   "metadata": {},
   "outputs": [],
   "source": [
    "mse=mean_squared_error(y,y_predict)"
   ]
  },
  {
   "cell_type": "code",
   "execution_count": 65,
   "id": "09d85638-1895-4b2c-b313-fdf3ae4cf3d1",
   "metadata": {},
   "outputs": [
    {
     "data": {
      "text/plain": [
       "np.float64(0.20612567272989152)"
      ]
     },
     "execution_count": 65,
     "metadata": {},
     "output_type": "execute_result"
    }
   ],
   "source": [
    "mse"
   ]
  },
  {
   "cell_type": "code",
   "execution_count": 66,
   "id": "a1c6c017-4607-4380-a496-414cbe67b531",
   "metadata": {},
   "outputs": [],
   "source": [
    "from sklearn.metrics import mean_absolute_error"
   ]
  },
  {
   "cell_type": "code",
   "execution_count": 67,
   "id": "6371e153-95cd-4f55-a94f-a13f3406594e",
   "metadata": {},
   "outputs": [],
   "source": [
    "mae=mean_absolute_error(y,y_predict)"
   ]
  },
  {
   "cell_type": "code",
   "execution_count": 68,
   "id": "efa6abb1-f210-4494-b8da-5a546c68fbec",
   "metadata": {},
   "outputs": [
    {
     "data": {
      "text/plain": [
       "np.float64(0.35889656274112464)"
      ]
     },
     "execution_count": 68,
     "metadata": {},
     "output_type": "execute_result"
    }
   ],
   "source": [
    "mae"
   ]
  },
  {
   "cell_type": "code",
   "execution_count": 69,
   "id": "15ed309d-dc58-41a6-a950-a2fc0d953f6c",
   "metadata": {},
   "outputs": [],
   "source": [
    "df_test=pd.read_csv('Test_Data_Set.csv')"
   ]
  },
  {
   "cell_type": "code",
   "execution_count": 70,
   "id": "5fc74af4-fa56-494f-b543-abfeb5ff105b",
   "metadata": {},
   "outputs": [
    {
     "data": {
      "text/html": [
       "<div>\n",
       "<style scoped>\n",
       "    .dataframe tbody tr th:only-of-type {\n",
       "        vertical-align: middle;\n",
       "    }\n",
       "\n",
       "    .dataframe tbody tr th {\n",
       "        vertical-align: top;\n",
       "    }\n",
       "\n",
       "    .dataframe thead th {\n",
       "        text-align: right;\n",
       "    }\n",
       "</style>\n",
       "<table border=\"1\" class=\"dataframe\">\n",
       "  <thead>\n",
       "    <tr style=\"text-align: right;\">\n",
       "      <th></th>\n",
       "      <th>Id</th>\n",
       "      <th>Maker</th>\n",
       "      <th>model</th>\n",
       "      <th>Location</th>\n",
       "      <th>Distance</th>\n",
       "      <th>Owner Type</th>\n",
       "      <th>manufacture_year</th>\n",
       "      <th>Age of car</th>\n",
       "      <th>engine_displacement</th>\n",
       "      <th>engine_power</th>\n",
       "      <th>body_type</th>\n",
       "      <th>Vroom Audit Rating</th>\n",
       "      <th>transmission</th>\n",
       "      <th>door_count</th>\n",
       "      <th>seat_count</th>\n",
       "      <th>fuel_type</th>\n",
       "    </tr>\n",
       "  </thead>\n",
       "  <tbody>\n",
       "    <tr>\n",
       "      <th>0</th>\n",
       "      <td>11001</td>\n",
       "      <td>skoda</td>\n",
       "      <td>octavia</td>\n",
       "      <td>Mumbai</td>\n",
       "      <td>150000.0</td>\n",
       "      <td>First</td>\n",
       "      <td>2007</td>\n",
       "      <td>12</td>\n",
       "      <td>1595</td>\n",
       "      <td>75.0</td>\n",
       "      <td>NaN</td>\n",
       "      <td>5</td>\n",
       "      <td>man</td>\n",
       "      <td>4.0</td>\n",
       "      <td>5.0</td>\n",
       "      <td>petrol</td>\n",
       "    </tr>\n",
       "    <tr>\n",
       "      <th>1</th>\n",
       "      <td>11002</td>\n",
       "      <td>skoda</td>\n",
       "      <td>rapid</td>\n",
       "      <td>Coimbatore</td>\n",
       "      <td>29376.0</td>\n",
       "      <td>Third</td>\n",
       "      <td>2014</td>\n",
       "      <td>5</td>\n",
       "      <td>1598</td>\n",
       "      <td>77.0</td>\n",
       "      <td>NaN</td>\n",
       "      <td>4</td>\n",
       "      <td>man</td>\n",
       "      <td>4.0</td>\n",
       "      <td>5.0</td>\n",
       "      <td>diesel</td>\n",
       "    </tr>\n",
       "    <tr>\n",
       "      <th>2</th>\n",
       "      <td>11003</td>\n",
       "      <td>skoda</td>\n",
       "      <td>octavia</td>\n",
       "      <td>Coimbatore</td>\n",
       "      <td>30563.0</td>\n",
       "      <td>Second</td>\n",
       "      <td>2014</td>\n",
       "      <td>5</td>\n",
       "      <td>1968</td>\n",
       "      <td>110.0</td>\n",
       "      <td>NaN</td>\n",
       "      <td>5</td>\n",
       "      <td>man</td>\n",
       "      <td>5.0</td>\n",
       "      <td>5.0</td>\n",
       "      <td>diesel</td>\n",
       "    </tr>\n",
       "    <tr>\n",
       "      <th>3</th>\n",
       "      <td>11004</td>\n",
       "      <td>audi</td>\n",
       "      <td>q3</td>\n",
       "      <td>Delhi</td>\n",
       "      <td>8650.0</td>\n",
       "      <td>Fourth &amp; Above</td>\n",
       "      <td>2015</td>\n",
       "      <td>4</td>\n",
       "      <td>1968</td>\n",
       "      <td>110.0</td>\n",
       "      <td>NaN</td>\n",
       "      <td>8</td>\n",
       "      <td>auto</td>\n",
       "      <td>4.0</td>\n",
       "      <td>5.0</td>\n",
       "      <td>diesel</td>\n",
       "    </tr>\n",
       "    <tr>\n",
       "      <th>4</th>\n",
       "      <td>11005</td>\n",
       "      <td>audi</td>\n",
       "      <td>tt</td>\n",
       "      <td>Chennai</td>\n",
       "      <td>6400.0</td>\n",
       "      <td>Third</td>\n",
       "      <td>2015</td>\n",
       "      <td>4</td>\n",
       "      <td>1984</td>\n",
       "      <td>169.0</td>\n",
       "      <td>NaN</td>\n",
       "      <td>4</td>\n",
       "      <td>auto</td>\n",
       "      <td>2.0</td>\n",
       "      <td>NaN</td>\n",
       "      <td>petrol</td>\n",
       "    </tr>\n",
       "    <tr>\n",
       "      <th>...</th>\n",
       "      <td>...</td>\n",
       "      <td>...</td>\n",
       "      <td>...</td>\n",
       "      <td>...</td>\n",
       "      <td>...</td>\n",
       "      <td>...</td>\n",
       "      <td>...</td>\n",
       "      <td>...</td>\n",
       "      <td>...</td>\n",
       "      <td>...</td>\n",
       "      <td>...</td>\n",
       "      <td>...</td>\n",
       "      <td>...</td>\n",
       "      <td>...</td>\n",
       "      <td>...</td>\n",
       "      <td>...</td>\n",
       "    </tr>\n",
       "    <tr>\n",
       "      <th>5610</th>\n",
       "      <td>16611</td>\n",
       "      <td>skoda</td>\n",
       "      <td>octavia</td>\n",
       "      <td>Mumbai</td>\n",
       "      <td>149976.0</td>\n",
       "      <td>First</td>\n",
       "      <td>2011</td>\n",
       "      <td>8</td>\n",
       "      <td>1968</td>\n",
       "      <td>103.0</td>\n",
       "      <td>NaN</td>\n",
       "      <td>8</td>\n",
       "      <td>man</td>\n",
       "      <td>4.0</td>\n",
       "      <td>5.0</td>\n",
       "      <td>diesel</td>\n",
       "    </tr>\n",
       "    <tr>\n",
       "      <th>5611</th>\n",
       "      <td>16612</td>\n",
       "      <td>skoda</td>\n",
       "      <td>superb</td>\n",
       "      <td>Ahmedabad</td>\n",
       "      <td>332000.0</td>\n",
       "      <td>First</td>\n",
       "      <td>2005</td>\n",
       "      <td>14</td>\n",
       "      <td>1896</td>\n",
       "      <td>96.0</td>\n",
       "      <td>NaN</td>\n",
       "      <td>6</td>\n",
       "      <td>man</td>\n",
       "      <td>4.0</td>\n",
       "      <td>5.0</td>\n",
       "      <td>diesel</td>\n",
       "    </tr>\n",
       "    <tr>\n",
       "      <th>5612</th>\n",
       "      <td>16613</td>\n",
       "      <td>skoda</td>\n",
       "      <td>octavia</td>\n",
       "      <td>Bangalore</td>\n",
       "      <td>230800.0</td>\n",
       "      <td>Second</td>\n",
       "      <td>2005</td>\n",
       "      <td>14</td>\n",
       "      <td>1896</td>\n",
       "      <td>77.0</td>\n",
       "      <td>NaN</td>\n",
       "      <td>7</td>\n",
       "      <td>man</td>\n",
       "      <td>5.0</td>\n",
       "      <td>5.0</td>\n",
       "      <td>diesel</td>\n",
       "    </tr>\n",
       "    <tr>\n",
       "      <th>5613</th>\n",
       "      <td>16614</td>\n",
       "      <td>nissan</td>\n",
       "      <td>qashqai</td>\n",
       "      <td>Jaipur</td>\n",
       "      <td>63480.0</td>\n",
       "      <td>Third</td>\n",
       "      <td>2011</td>\n",
       "      <td>8</td>\n",
       "      <td>1997</td>\n",
       "      <td>104.0</td>\n",
       "      <td>NaN</td>\n",
       "      <td>5</td>\n",
       "      <td>man</td>\n",
       "      <td>4.0</td>\n",
       "      <td>7.0</td>\n",
       "      <td>petrol</td>\n",
       "    </tr>\n",
       "    <tr>\n",
       "      <th>5614</th>\n",
       "      <td>16615</td>\n",
       "      <td>hyundai</td>\n",
       "      <td>i30</td>\n",
       "      <td>Jaipur</td>\n",
       "      <td>75000.0</td>\n",
       "      <td>Second</td>\n",
       "      <td>2011</td>\n",
       "      <td>8</td>\n",
       "      <td>1396</td>\n",
       "      <td>80.0</td>\n",
       "      <td>NaN</td>\n",
       "      <td>4</td>\n",
       "      <td>man</td>\n",
       "      <td>NaN</td>\n",
       "      <td>NaN</td>\n",
       "      <td>petrol</td>\n",
       "    </tr>\n",
       "  </tbody>\n",
       "</table>\n",
       "<p>5615 rows × 16 columns</p>\n",
       "</div>"
      ],
      "text/plain": [
       "         Id    Maker    model    Location  Distance       Owner Type  \\\n",
       "0     11001    skoda  octavia      Mumbai   150000.0           First   \n",
       "1     11002    skoda    rapid  Coimbatore    29376.0           Third   \n",
       "2     11003    skoda  octavia  Coimbatore    30563.0          Second   \n",
       "3     11004     audi       q3       Delhi     8650.0  Fourth & Above   \n",
       "4     11005     audi       tt     Chennai     6400.0           Third   \n",
       "...     ...      ...      ...         ...        ...             ...   \n",
       "5610  16611    skoda  octavia      Mumbai   149976.0           First   \n",
       "5611  16612    skoda   superb   Ahmedabad   332000.0           First   \n",
       "5612  16613    skoda  octavia   Bangalore   230800.0          Second   \n",
       "5613  16614   nissan  qashqai      Jaipur    63480.0           Third   \n",
       "5614  16615  hyundai      i30      Jaipur    75000.0          Second   \n",
       "\n",
       "      manufacture_year  Age of car  engine_displacement  engine_power  \\\n",
       "0                 2007          12                 1595          75.0   \n",
       "1                 2014           5                 1598          77.0   \n",
       "2                 2014           5                 1968         110.0   \n",
       "3                 2015           4                 1968         110.0   \n",
       "4                 2015           4                 1984         169.0   \n",
       "...                ...         ...                  ...           ...   \n",
       "5610              2011           8                 1968         103.0   \n",
       "5611              2005          14                 1896          96.0   \n",
       "5612              2005          14                 1896          77.0   \n",
       "5613              2011           8                 1997         104.0   \n",
       "5614              2011           8                 1396          80.0   \n",
       "\n",
       "     body_type  Vroom Audit Rating transmission  door_count  seat_count  \\\n",
       "0          NaN                   5          man         4.0         5.0   \n",
       "1          NaN                   4          man         4.0         5.0   \n",
       "2          NaN                   5          man         5.0         5.0   \n",
       "3          NaN                   8         auto         4.0         5.0   \n",
       "4          NaN                   4         auto         2.0         NaN   \n",
       "...        ...                 ...          ...         ...         ...   \n",
       "5610       NaN                   8          man         4.0         5.0   \n",
       "5611       NaN                   6          man         4.0         5.0   \n",
       "5612       NaN                   7          man         5.0         5.0   \n",
       "5613       NaN                   5          man         4.0         7.0   \n",
       "5614       NaN                   4          man         NaN         NaN   \n",
       "\n",
       "     fuel_type  \n",
       "0       petrol  \n",
       "1       diesel  \n",
       "2       diesel  \n",
       "3       diesel  \n",
       "4       petrol  \n",
       "...        ...  \n",
       "5610    diesel  \n",
       "5611    diesel  \n",
       "5612    diesel  \n",
       "5613    petrol  \n",
       "5614    petrol  \n",
       "\n",
       "[5615 rows x 16 columns]"
      ]
     },
     "execution_count": 70,
     "metadata": {},
     "output_type": "execute_result"
    }
   ],
   "source": [
    "df_test"
   ]
  },
  {
   "cell_type": "code",
   "execution_count": 71,
   "id": "7288bd65-f396-4988-b929-cb5fceebd1c5",
   "metadata": {},
   "outputs": [
    {
     "data": {
      "text/plain": [
       "Index(['Id', 'Maker', 'model', 'Location', 'Distance ', 'Owner Type',\n",
       "       'manufacture_year', 'Age of car', 'engine_displacement', 'engine_power',\n",
       "       'body_type', 'Vroom Audit Rating', 'transmission', 'door_count',\n",
       "       'seat_count', 'fuel_type'],\n",
       "      dtype='object')"
      ]
     },
     "execution_count": 71,
     "metadata": {},
     "output_type": "execute_result"
    }
   ],
   "source": [
    "df_test.columns"
   ]
  },
  {
   "cell_type": "code",
   "execution_count": 72,
   "id": "1f3d571a-3614-49e8-8fb0-c1c2883bf617",
   "metadata": {},
   "outputs": [
    {
     "data": {
      "text/plain": [
       "Id                        0\n",
       "Maker                     0\n",
       "model                     0\n",
       "Location                  0\n",
       "Distance                128\n",
       "Owner Type                0\n",
       "manufacture_year          0\n",
       "Age of car                0\n",
       "engine_displacement       0\n",
       "engine_power            168\n",
       "body_type              5193\n",
       "Vroom Audit Rating        0\n",
       "transmission              0\n",
       "door_count              806\n",
       "seat_count              891\n",
       "fuel_type                 0\n",
       "dtype: int64"
      ]
     },
     "execution_count": 72,
     "metadata": {},
     "output_type": "execute_result"
    }
   ],
   "source": [
    "df_test.isnull().sum()"
   ]
  },
  {
   "cell_type": "code",
   "execution_count": 73,
   "id": "d7c5c2c1-9012-41a7-98e5-a6186a44a290",
   "metadata": {},
   "outputs": [],
   "source": [
    "df_test.drop(columns='body_type',inplace=True)"
   ]
  },
  {
   "cell_type": "code",
   "execution_count": 74,
   "id": "f4c66a7c-298e-4648-ada1-53fbf73314ef",
   "metadata": {},
   "outputs": [
    {
     "data": {
      "text/plain": [
       "Id                       0\n",
       "Maker                    0\n",
       "model                    0\n",
       "Location                 0\n",
       "Distance               128\n",
       "Owner Type               0\n",
       "manufacture_year         0\n",
       "Age of car               0\n",
       "engine_displacement      0\n",
       "engine_power           168\n",
       "Vroom Audit Rating       0\n",
       "transmission             0\n",
       "door_count             806\n",
       "seat_count             891\n",
       "fuel_type                0\n",
       "dtype: int64"
      ]
     },
     "execution_count": 74,
     "metadata": {},
     "output_type": "execute_result"
    }
   ],
   "source": [
    "df_test.isnull().sum()"
   ]
  },
  {
   "cell_type": "code",
   "execution_count": 75,
   "id": "97d48ced-6893-42d2-a2e3-497c8810715f",
   "metadata": {},
   "outputs": [
    {
     "data": {
      "text/plain": [
       "Index(['Id', 'Maker', 'model', 'Location', 'Distance ', 'Owner Type',\n",
       "       'manufacture_year', 'Age of car', 'engine_displacement', 'engine_power',\n",
       "       'Vroom Audit Rating', 'transmission', 'door_count', 'seat_count',\n",
       "       'fuel_type'],\n",
       "      dtype='object')"
      ]
     },
     "execution_count": 75,
     "metadata": {},
     "output_type": "execute_result"
    }
   ],
   "source": [
    "df_test.columns"
   ]
  },
  {
   "cell_type": "code",
   "execution_count": 76,
   "id": "e4386712-61cd-4816-92f7-b10c1690116b",
   "metadata": {},
   "outputs": [
    {
     "data": {
      "text/plain": [
       "np.float64(95890.0885729907)"
      ]
     },
     "execution_count": 76,
     "metadata": {},
     "output_type": "execute_result"
    }
   ],
   "source": [
    "df_test['Distance '].mean()"
   ]
  },
  {
   "cell_type": "code",
   "execution_count": 77,
   "id": "8839519c-cbb8-4f89-8c55-53bbd8098afa",
   "metadata": {},
   "outputs": [
    {
     "data": {
      "text/plain": [
       "np.float64(64000.0)"
      ]
     },
     "execution_count": 77,
     "metadata": {},
     "output_type": "execute_result"
    }
   ],
   "source": [
    "df_test['Distance '].median()"
   ]
  },
  {
   "cell_type": "code",
   "execution_count": 78,
   "id": "c80f76fb-eaaa-4d36-bc4a-1502f6369a19",
   "metadata": {},
   "outputs": [],
   "source": [
    "df_test['Distance '].fillna(df['Distance '].median(),inplace=True)"
   ]
  },
  {
   "cell_type": "code",
   "execution_count": 79,
   "id": "c862cced-b161-45f3-8f74-1ce7191ba549",
   "metadata": {},
   "outputs": [
    {
     "data": {
      "text/plain": [
       "np.int64(0)"
      ]
     },
     "execution_count": 79,
     "metadata": {},
     "output_type": "execute_result"
    }
   ],
   "source": [
    "df_test['Distance '].isnull().sum()"
   ]
  },
  {
   "cell_type": "code",
   "execution_count": 80,
   "id": "bad672ff-33d0-4bd6-a78f-5f1be20f9518",
   "metadata": {},
   "outputs": [
    {
     "data": {
      "text/plain": [
       "np.float64(99.47457315953736)"
      ]
     },
     "execution_count": 80,
     "metadata": {},
     "output_type": "execute_result"
    }
   ],
   "source": [
    "df_test['engine_power'].mean()"
   ]
  },
  {
   "cell_type": "code",
   "execution_count": 81,
   "id": "11ff318a-b996-4a58-b48e-37d551b5c606",
   "metadata": {},
   "outputs": [
    {
     "data": {
      "text/plain": [
       "np.float64(88.0)"
      ]
     },
     "execution_count": 81,
     "metadata": {},
     "output_type": "execute_result"
    }
   ],
   "source": [
    "df_test['engine_power'].median()"
   ]
  },
  {
   "cell_type": "code",
   "execution_count": 82,
   "id": "e2df7993-0aad-41b6-b7e9-4fcec2d85497",
   "metadata": {},
   "outputs": [],
   "source": [
    "df_test['engine_power'].fillna(df['engine_power'].median(),inplace=True)"
   ]
  },
  {
   "cell_type": "code",
   "execution_count": 83,
   "id": "bd825fdb-cfb7-4d1c-ba56-966c1917999c",
   "metadata": {},
   "outputs": [
    {
     "data": {
      "text/plain": [
       "np.int64(0)"
      ]
     },
     "execution_count": 83,
     "metadata": {},
     "output_type": "execute_result"
    }
   ],
   "source": [
    "df_test['engine_power'].isnull().sum()"
   ]
  },
  {
   "cell_type": "code",
   "execution_count": 84,
   "id": "7f5d5284-ae4a-459e-8c03-b848aa8a44dc",
   "metadata": {},
   "outputs": [
    {
     "data": {
      "text/plain": [
       "np.float64(3.9783738823040133)"
      ]
     },
     "execution_count": 84,
     "metadata": {},
     "output_type": "execute_result"
    }
   ],
   "source": [
    "df_test['door_count'].mean()"
   ]
  },
  {
   "cell_type": "code",
   "execution_count": 85,
   "id": "cf58f86b-dd56-4396-b44c-05abb6eb8691",
   "metadata": {},
   "outputs": [
    {
     "data": {
      "text/plain": [
       "np.float64(4.0)"
      ]
     },
     "execution_count": 85,
     "metadata": {},
     "output_type": "execute_result"
    }
   ],
   "source": [
    "df_test['door_count'].median()"
   ]
  },
  {
   "cell_type": "code",
   "execution_count": 86,
   "id": "87751403-c0b6-42b4-9c2c-55d25973ac30",
   "metadata": {},
   "outputs": [],
   "source": [
    "df_test['door_count'].fillna(df['door_count'].mean(),inplace=True)"
   ]
  },
  {
   "cell_type": "code",
   "execution_count": 87,
   "id": "02691433-5a0e-4bb1-8e8d-b86c0f18a302",
   "metadata": {},
   "outputs": [
    {
     "data": {
      "text/plain": [
       "np.float64(4.884843353090601)"
      ]
     },
     "execution_count": 87,
     "metadata": {},
     "output_type": "execute_result"
    }
   ],
   "source": [
    "df_test['seat_count'].mean()"
   ]
  },
  {
   "cell_type": "code",
   "execution_count": 88,
   "id": "f7b2428b-c749-4b64-93b1-52d446bf9a1e",
   "metadata": {},
   "outputs": [
    {
     "data": {
      "text/plain": [
       "np.float64(5.0)"
      ]
     },
     "execution_count": 88,
     "metadata": {},
     "output_type": "execute_result"
    }
   ],
   "source": [
    "df_test['seat_count'].median()"
   ]
  },
  {
   "cell_type": "code",
   "execution_count": 89,
   "id": "d78477a1-9609-4d1a-83c3-c9b5a41d76bc",
   "metadata": {},
   "outputs": [],
   "source": [
    "df_test['seat_count'].fillna(df['seat_count'].mean(),inplace=True)"
   ]
  },
  {
   "cell_type": "code",
   "execution_count": 90,
   "id": "640515e9-bb4a-44f1-81d3-45d7130d0e5b",
   "metadata": {},
   "outputs": [
    {
     "data": {
      "text/plain": [
       "Id                     0\n",
       "Maker                  0\n",
       "model                  0\n",
       "Location               0\n",
       "Distance               0\n",
       "Owner Type             0\n",
       "manufacture_year       0\n",
       "Age of car             0\n",
       "engine_displacement    0\n",
       "engine_power           0\n",
       "Vroom Audit Rating     0\n",
       "transmission           0\n",
       "door_count             0\n",
       "seat_count             0\n",
       "fuel_type              0\n",
       "dtype: int64"
      ]
     },
     "execution_count": 90,
     "metadata": {},
     "output_type": "execute_result"
    }
   ],
   "source": [
    "df_test.isnull().sum()"
   ]
  },
  {
   "cell_type": "code",
   "execution_count": 91,
   "id": "c365969a-9f9f-4838-a693-539fb06e902c",
   "metadata": {},
   "outputs": [
    {
     "data": {
      "text/plain": [
       "np.int64(0)"
      ]
     },
     "execution_count": 91,
     "metadata": {},
     "output_type": "execute_result"
    }
   ],
   "source": [
    "df_test.duplicated().sum()"
   ]
  },
  {
   "cell_type": "code",
   "execution_count": 92,
   "id": "506939f9-deb5-40d9-b2c6-a49e686b69ca",
   "metadata": {},
   "outputs": [
    {
     "data": {
      "text/plain": [
       "(5615, 15)"
      ]
     },
     "execution_count": 92,
     "metadata": {},
     "output_type": "execute_result"
    }
   ],
   "source": [
    "df_test.shape"
   ]
  },
  {
   "cell_type": "code",
   "execution_count": 93,
   "id": "87a08640-cb64-4304-8a8c-28f6333a1c47",
   "metadata": {},
   "outputs": [
    {
     "data": {
      "text/plain": [
       "Id                       int64\n",
       "Maker                   object\n",
       "model                   object\n",
       "Location                object\n",
       "Distance               float64\n",
       "Owner Type              object\n",
       "manufacture_year         int64\n",
       "Age of car               int64\n",
       "engine_displacement      int64\n",
       "engine_power           float64\n",
       "Vroom Audit Rating       int64\n",
       "transmission            object\n",
       "door_count             float64\n",
       "seat_count             float64\n",
       "fuel_type               object\n",
       "dtype: object"
      ]
     },
     "execution_count": 93,
     "metadata": {},
     "output_type": "execute_result"
    }
   ],
   "source": [
    "df_test.dtypes"
   ]
  },
  {
   "cell_type": "code",
   "execution_count": 94,
   "id": "f8074102-6e91-4c3c-a75b-c6731ae0fc25",
   "metadata": {},
   "outputs": [],
   "source": [
    "from sklearn.preprocessing import LabelEncoder\n",
    "le=LabelEncoder()"
   ]
  },
  {
   "cell_type": "code",
   "execution_count": 95,
   "id": "7b9b59c9-12bc-488c-ab5c-cfd4589ee82c",
   "metadata": {},
   "outputs": [],
   "source": [
    "df_test['Maker']=le.fit_transform(df_test['Maker'])"
   ]
  },
  {
   "cell_type": "code",
   "execution_count": 96,
   "id": "ff7ae711-f5b9-46b1-9efe-797dff6de696",
   "metadata": {},
   "outputs": [
    {
     "data": {
      "text/plain": [
       "dtype('int64')"
      ]
     },
     "execution_count": 96,
     "metadata": {},
     "output_type": "execute_result"
    }
   ],
   "source": [
    "df_test['Maker'].dtypes"
   ]
  },
  {
   "cell_type": "code",
   "execution_count": 97,
   "id": "9cb9a565-19ec-4845-a1cb-a22716edda24",
   "metadata": {},
   "outputs": [],
   "source": [
    "df_test['model']=le.fit_transform(df_test['model'])"
   ]
  },
  {
   "cell_type": "code",
   "execution_count": 98,
   "id": "b7154844-fe3a-454c-804b-3468fa85b2a4",
   "metadata": {},
   "outputs": [],
   "source": [
    "df_test['Location']=le.fit_transform(df_test['Location'])\n",
    "df_test['transmission']=le.fit_transform(df_test['transmission'])"
   ]
  },
  {
   "cell_type": "code",
   "execution_count": 99,
   "id": "a9e51d1c-d9d3-4d9a-a1fd-5bd3b97c2ece",
   "metadata": {},
   "outputs": [],
   "source": [
    "df_test['fuel_type']=le.fit_transform(df_test['fuel_type'])"
   ]
  },
  {
   "cell_type": "code",
   "execution_count": 100,
   "id": "cc1e2a56-e6ef-4fa1-aaf0-22e82d9b8b7c",
   "metadata": {},
   "outputs": [],
   "source": [
    "df_test['Owner Type']=le.fit_transform(df_test['Owner Type'])"
   ]
  },
  {
   "cell_type": "code",
   "execution_count": 101,
   "id": "1d806429-82ec-44b7-9384-134d75fcf243",
   "metadata": {},
   "outputs": [
    {
     "data": {
      "text/plain": [
       "Id                       int64\n",
       "Maker                    int64\n",
       "model                    int64\n",
       "Location                 int64\n",
       "Distance               float64\n",
       "Owner Type               int64\n",
       "manufacture_year         int64\n",
       "Age of car               int64\n",
       "engine_displacement      int64\n",
       "engine_power           float64\n",
       "Vroom Audit Rating       int64\n",
       "transmission             int64\n",
       "door_count             float64\n",
       "seat_count             float64\n",
       "fuel_type                int64\n",
       "dtype: object"
      ]
     },
     "execution_count": 101,
     "metadata": {},
     "output_type": "execute_result"
    }
   ],
   "source": [
    "df_test.dtypes"
   ]
  },
  {
   "cell_type": "code",
   "execution_count": 102,
   "id": "a81723a0-652a-4d13-9a23-5a3bb378399c",
   "metadata": {},
   "outputs": [],
   "source": [
    "import matplotlib.pyplot as plt"
   ]
  },
  {
   "cell_type": "code",
   "execution_count": 103,
   "id": "c4dee40f-dac3-4159-8968-fe9c23445ada",
   "metadata": {},
   "outputs": [
    {
     "data": {
      "image/png": "[encoded data removed]",
      "text/plain": [
       "<Figure size 640x480 with 1 Axes>"
      ]
     },
     "metadata": {},
     "output_type": "display_data"
    }
   ],
   "source": [
    "df_test.boxplot()\n",
    "plt.show()"
   ]
  },
  {
   "cell_type": "code",
   "execution_count": 104,
   "id": "2c4504ac-b85f-4b66-a97d-5ad1bf515062",
   "metadata": {},
   "outputs": [],
   "source": [
    "z=(df_test-df_test.mean())/df_test.std()"
   ]
  },
  {
   "cell_type": "code",
   "execution_count": 105,
   "id": "d93be223-25bf-4cc2-be89-9c8e6016341c",
   "metadata": {},
   "outputs": [],
   "source": [
    "df4=df_test[(z>-2)&(z<2)]"
   ]
  },
  {
   "cell_type": "code",
   "execution_count": 106,
   "id": "57322c91-858f-4c84-8b8a-0d005f65db37",
   "metadata": {},
   "outputs": [
    {
     "data": {
      "image/png": "[encoded data removed]",
      "text/plain": [
       "<Figure size 640x480 with 1 Axes>"
      ]
     },
     "metadata": {},
     "output_type": "display_data"
    }
   ],
   "source": [
    "df4.boxplot()\n",
    "plt.show()"
   ]
  },
  {
   "cell_type": "code",
   "execution_count": 107,
   "id": "1520e198-ce5a-4ae3-a13c-a87ca67d37ab",
   "metadata": {},
   "outputs": [],
   "source": [
    "z=(df4-df4.mean())/df4.std()"
   ]
  },
  {
   "cell_type": "code",
   "execution_count": 108,
   "id": "e8daeae7-9dc8-4912-ad34-513f19dbbd6d",
   "metadata": {},
   "outputs": [],
   "source": [
    "df5=df4[(z>-2)&(z<2)]"
   ]
  },
  {
   "cell_type": "code",
   "execution_count": 109,
   "id": "1ea85722-17db-4af8-9e40-f95f7b916d5d",
   "metadata": {},
   "outputs": [
    {
     "data": {
      "image/png": "[encoded data removed]",
      "text/plain": [
       "<Figure size 640x480 with 1 Axes>"
      ]
     },
     "metadata": {},
     "output_type": "display_data"
    }
   ],
   "source": [
    "df5.boxplot()\n",
    "plt.show()"
   ]
  },
  {
   "cell_type": "code",
   "execution_count": 110,
   "id": "eabba9ee-c699-4da7-9245-e93dc6a3ea7a",
   "metadata": {},
   "outputs": [],
   "source": [
    "z=(df5-df5.mean())/df5.std()"
   ]
  },
  {
   "cell_type": "code",
   "execution_count": 111,
   "id": "cf69e604-bda3-49db-88bd-df6b086f4674",
   "metadata": {},
   "outputs": [],
   "source": [
    "df6=df5[(z>-2)&(z<2)]"
   ]
  },
  {
   "cell_type": "code",
   "execution_count": 112,
   "id": "37b7ae2d-d6f5-445d-bd83-a4bcb5006ad9",
   "metadata": {},
   "outputs": [
    {
     "data": {
      "image/png": "[encoded data removed]",
      "text/plain": [
       "<Figure size 640x480 with 1 Axes>"
      ]
     },
     "metadata": {},
     "output_type": "display_data"
    }
   ],
   "source": [
    "df6.boxplot()\n",
    "plt.show()"
   ]
  },
  {
   "cell_type": "code",
   "execution_count": 113,
   "id": "e7b4aae2-c6ab-464f-80bd-344b9ad110aa",
   "metadata": {},
   "outputs": [
    {
     "data": {
      "text/plain": [
       "Id                        0\n",
       "Maker                     0\n",
       "model                     0\n",
       "Location                  0\n",
       "Distance                249\n",
       "Owner Type                0\n",
       "manufacture_year        485\n",
       "Age of car              485\n",
       "engine_displacement     540\n",
       "engine_power            559\n",
       "Vroom Audit Rating        0\n",
       "transmission              0\n",
       "door_count             1226\n",
       "seat_count              624\n",
       "fuel_type                 0\n",
       "dtype: int64"
      ]
     },
     "execution_count": 113,
     "metadata": {},
     "output_type": "execute_result"
    }
   ],
   "source": [
    "df5.isnull().sum()"
   ]
  },
  {
   "cell_type": "code",
   "execution_count": 114,
   "id": "cde70b11-23e8-4680-b197-b3de1317e19d",
   "metadata": {},
   "outputs": [],
   "source": [
    "df5.dropna(inplace=True)"
   ]
  },
  {
   "cell_type": "code",
   "execution_count": 115,
   "id": "e8f683c3-8686-424a-b498-7e46d7ff6863",
   "metadata": {},
   "outputs": [
    {
     "data": {
      "text/plain": [
       "Id                     0\n",
       "Maker                  0\n",
       "model                  0\n",
       "Location               0\n",
       "Distance               0\n",
       "Owner Type             0\n",
       "manufacture_year       0\n",
       "Age of car             0\n",
       "engine_displacement    0\n",
       "engine_power           0\n",
       "Vroom Audit Rating     0\n",
       "transmission           0\n",
       "door_count             0\n",
       "seat_count             0\n",
       "fuel_type              0\n",
       "dtype: int64"
      ]
     },
     "execution_count": 115,
     "metadata": {},
     "output_type": "execute_result"
    }
   ],
   "source": [
    "df5.isnull().sum()"
   ]
  },
  {
   "cell_type": "code",
   "execution_count": 116,
   "id": "b984fb59-ffc7-4526-8b57-c603673c6a92",
   "metadata": {},
   "outputs": [
    {
     "data": {
      "text/plain": [
       "(3243, 15)"
      ]
     },
     "execution_count": 116,
     "metadata": {},
     "output_type": "execute_result"
    }
   ],
   "source": [
    "df5.shape"
   ]
  },
  {
   "cell_type": "code",
   "execution_count": 117,
   "id": "7e1343d4-494d-4118-9df1-8c7fb643a63c",
   "metadata": {},
   "outputs": [],
   "source": [
    "from sklearn.preprocessing import StandardScaler\n",
    "ss=StandardScaler()"
   ]
  },
  {
   "cell_type": "code",
   "execution_count": 118,
   "id": "6a8c5434-83b0-4beb-8810-04ffc5acef6e",
   "metadata": {},
   "outputs": [],
   "source": [
    "data_test=pd.DataFrame(ss.fit_transform(df5),columns=df5.columns)"
   ]
  },
  {
   "cell_type": "code",
   "execution_count": 119,
   "id": "3c6b8f70-9a5d-40f5-8cc3-b57a7a02fb05",
   "metadata": {},
   "outputs": [
    {
     "data": {
      "text/html": [
       "<div>\n",
       "<style scoped>\n",
       "    .dataframe tbody tr th:only-of-type {\n",
       "        vertical-align: middle;\n",
       "    }\n",
       "\n",
       "    .dataframe tbody tr th {\n",
       "        vertical-align: top;\n",
       "    }\n",
       "\n",
       "    .dataframe thead th {\n",
       "        text-align: right;\n",
       "    }\n",
       "</style>\n",
       "<table border=\"1\" class=\"dataframe\">\n",
       "  <thead>\n",
       "    <tr style=\"text-align: right;\">\n",
       "      <th></th>\n",
       "      <th>Id</th>\n",
       "      <th>Maker</th>\n",
       "      <th>model</th>\n",
       "      <th>Location</th>\n",
       "      <th>Distance</th>\n",
       "      <th>Owner Type</th>\n",
       "      <th>manufacture_year</th>\n",
       "      <th>Age of car</th>\n",
       "      <th>engine_displacement</th>\n",
       "      <th>engine_power</th>\n",
       "      <th>Vroom Audit Rating</th>\n",
       "      <th>transmission</th>\n",
       "      <th>door_count</th>\n",
       "      <th>seat_count</th>\n",
       "      <th>fuel_type</th>\n",
       "    </tr>\n",
       "  </thead>\n",
       "  <tbody>\n",
       "    <tr>\n",
       "      <th>0</th>\n",
       "      <td>-1.733322</td>\n",
       "      <td>0.593923</td>\n",
       "      <td>-0.551253</td>\n",
       "      <td>1.261447</td>\n",
       "      <td>1.517648</td>\n",
       "      <td>-1.291161</td>\n",
       "      <td>-1.654051</td>\n",
       "      <td>1.654051</td>\n",
       "      <td>-0.239664</td>\n",
       "      <td>-0.742327</td>\n",
       "      <td>-0.705205</td>\n",
       "      <td>0.646541</td>\n",
       "      <td>0.435995</td>\n",
       "      <td>0.455874</td>\n",
       "      <td>1.100288</td>\n",
       "    </tr>\n",
       "    <tr>\n",
       "      <th>1</th>\n",
       "      <td>-1.732704</td>\n",
       "      <td>0.593923</td>\n",
       "      <td>0.405426</td>\n",
       "      <td>-0.633938</td>\n",
       "      <td>-0.504504</td>\n",
       "      <td>1.345084</td>\n",
       "      <td>0.651242</td>\n",
       "      <td>-0.651242</td>\n",
       "      <td>-0.230503</td>\n",
       "      <td>-0.664063</td>\n",
       "      <td>-1.420557</td>\n",
       "      <td>0.646541</td>\n",
       "      <td>0.435995</td>\n",
       "      <td>0.455874</td>\n",
       "      <td>-0.908853</td>\n",
       "    </tr>\n",
       "    <tr>\n",
       "      <th>2</th>\n",
       "      <td>-1.731469</td>\n",
       "      <td>-1.905871</td>\n",
       "      <td>-0.232360</td>\n",
       "      <td>-0.318040</td>\n",
       "      <td>-0.851956</td>\n",
       "      <td>-0.412413</td>\n",
       "      <td>0.980569</td>\n",
       "      <td>-0.980569</td>\n",
       "      <td>0.899379</td>\n",
       "      <td>0.627296</td>\n",
       "      <td>1.440851</td>\n",
       "      <td>-1.546693</td>\n",
       "      <td>0.435995</td>\n",
       "      <td>0.455874</td>\n",
       "      <td>-0.908853</td>\n",
       "    </tr>\n",
       "    <tr>\n",
       "      <th>3</th>\n",
       "      <td>-1.728997</td>\n",
       "      <td>-1.905871</td>\n",
       "      <td>-0.232360</td>\n",
       "      <td>-1.265733</td>\n",
       "      <td>-0.695212</td>\n",
       "      <td>1.345084</td>\n",
       "      <td>0.651242</td>\n",
       "      <td>-0.651242</td>\n",
       "      <td>0.899379</td>\n",
       "      <td>1.409937</td>\n",
       "      <td>0.010147</td>\n",
       "      <td>-1.546693</td>\n",
       "      <td>0.435995</td>\n",
       "      <td>0.455874</td>\n",
       "      <td>-0.908853</td>\n",
       "    </tr>\n",
       "    <tr>\n",
       "      <th>4</th>\n",
       "      <td>-1.728379</td>\n",
       "      <td>0.593923</td>\n",
       "      <td>-0.551253</td>\n",
       "      <td>-1.265733</td>\n",
       "      <td>-0.992440</td>\n",
       "      <td>-0.412413</td>\n",
       "      <td>-1.983378</td>\n",
       "      <td>1.983378</td>\n",
       "      <td>0.997099</td>\n",
       "      <td>0.353371</td>\n",
       "      <td>-0.705205</td>\n",
       "      <td>0.646541</td>\n",
       "      <td>-2.293604</td>\n",
       "      <td>-2.193588</td>\n",
       "      <td>1.100288</td>\n",
       "    </tr>\n",
       "    <tr>\n",
       "      <th>...</th>\n",
       "      <td>...</td>\n",
       "      <td>...</td>\n",
       "      <td>...</td>\n",
       "      <td>...</td>\n",
       "      <td>...</td>\n",
       "      <td>...</td>\n",
       "      <td>...</td>\n",
       "      <td>...</td>\n",
       "      <td>...</td>\n",
       "      <td>...</td>\n",
       "      <td>...</td>\n",
       "      <td>...</td>\n",
       "      <td>...</td>\n",
       "      <td>...</td>\n",
       "      <td>...</td>\n",
       "    </tr>\n",
       "    <tr>\n",
       "      <th>3238</th>\n",
       "      <td>1.728813</td>\n",
       "      <td>-1.489239</td>\n",
       "      <td>1.202658</td>\n",
       "      <td>1.261447</td>\n",
       "      <td>0.597819</td>\n",
       "      <td>-1.291161</td>\n",
       "      <td>-0.336741</td>\n",
       "      <td>0.336741</td>\n",
       "      <td>0.981830</td>\n",
       "      <td>1.605598</td>\n",
       "      <td>0.725499</td>\n",
       "      <td>0.646541</td>\n",
       "      <td>0.435995</td>\n",
       "      <td>0.455874</td>\n",
       "      <td>-0.908853</td>\n",
       "    </tr>\n",
       "    <tr>\n",
       "      <th>3239</th>\n",
       "      <td>1.729431</td>\n",
       "      <td>0.593923</td>\n",
       "      <td>-1.348485</td>\n",
       "      <td>-0.002143</td>\n",
       "      <td>0.549354</td>\n",
       "      <td>1.345084</td>\n",
       "      <td>-0.007413</td>\n",
       "      <td>0.007413</td>\n",
       "      <td>-2.059690</td>\n",
       "      <td>-1.524969</td>\n",
       "      <td>0.010147</td>\n",
       "      <td>0.646541</td>\n",
       "      <td>0.435995</td>\n",
       "      <td>-2.193588</td>\n",
       "      <td>1.100288</td>\n",
       "    </tr>\n",
       "    <tr>\n",
       "      <th>3240</th>\n",
       "      <td>1.731285</td>\n",
       "      <td>0.593923</td>\n",
       "      <td>0.724318</td>\n",
       "      <td>1.261447</td>\n",
       "      <td>1.724232</td>\n",
       "      <td>-0.412413</td>\n",
       "      <td>-0.007413</td>\n",
       "      <td>0.007413</td>\n",
       "      <td>0.899379</td>\n",
       "      <td>0.353371</td>\n",
       "      <td>0.725499</td>\n",
       "      <td>-1.546693</td>\n",
       "      <td>0.435995</td>\n",
       "      <td>0.455874</td>\n",
       "      <td>-0.908853</td>\n",
       "    </tr>\n",
       "    <tr>\n",
       "      <th>3241</th>\n",
       "      <td>1.733139</td>\n",
       "      <td>0.593923</td>\n",
       "      <td>-0.551253</td>\n",
       "      <td>1.261447</td>\n",
       "      <td>1.517246</td>\n",
       "      <td>-1.291161</td>\n",
       "      <td>-0.336741</td>\n",
       "      <td>0.336741</td>\n",
       "      <td>0.899379</td>\n",
       "      <td>0.353371</td>\n",
       "      <td>1.440851</td>\n",
       "      <td>0.646541</td>\n",
       "      <td>0.435995</td>\n",
       "      <td>0.455874</td>\n",
       "      <td>-0.908853</td>\n",
       "    </tr>\n",
       "    <tr>\n",
       "      <th>3242</th>\n",
       "      <td>1.735610</td>\n",
       "      <td>-0.655974</td>\n",
       "      <td>-1.029592</td>\n",
       "      <td>0.313754</td>\n",
       "      <td>0.260341</td>\n",
       "      <td>0.466335</td>\n",
       "      <td>-0.336741</td>\n",
       "      <td>0.336741</td>\n",
       "      <td>-0.847357</td>\n",
       "      <td>-0.546667</td>\n",
       "      <td>-1.420557</td>\n",
       "      <td>0.646541</td>\n",
       "      <td>-2.293604</td>\n",
       "      <td>-2.193588</td>\n",
       "      <td>1.100288</td>\n",
       "    </tr>\n",
       "  </tbody>\n",
       "</table>\n",
       "<p>3243 rows × 15 columns</p>\n",
       "</div>"
      ],
      "text/plain": [
       "            Id     Maker     model  Location  Distance   Owner Type  \\\n",
       "0    -1.733322  0.593923 -0.551253  1.261447   1.517648   -1.291161   \n",
       "1    -1.732704  0.593923  0.405426 -0.633938  -0.504504    1.345084   \n",
       "2    -1.731469 -1.905871 -0.232360 -0.318040  -0.851956   -0.412413   \n",
       "3    -1.728997 -1.905871 -0.232360 -1.265733  -0.695212    1.345084   \n",
       "4    -1.728379  0.593923 -0.551253 -1.265733  -0.992440   -0.412413   \n",
       "...        ...       ...       ...       ...        ...         ...   \n",
       "3238  1.728813 -1.489239  1.202658  1.261447   0.597819   -1.291161   \n",
       "3239  1.729431  0.593923 -1.348485 -0.002143   0.549354    1.345084   \n",
       "3240  1.731285  0.593923  0.724318  1.261447   1.724232   -0.412413   \n",
       "3241  1.733139  0.593923 -0.551253  1.261447   1.517246   -1.291161   \n",
       "3242  1.735610 -0.655974 -1.029592  0.313754   0.260341    0.466335   \n",
       "\n",
       "      manufacture_year  Age of car  engine_displacement  engine_power  \\\n",
       "0            -1.654051    1.654051            -0.239664     -0.742327   \n",
       "1             0.651242   -0.651242            -0.230503     -0.664063   \n",
       "2             0.980569   -0.980569             0.899379      0.627296   \n",
       "3             0.651242   -0.651242             0.899379      1.409937   \n",
       "4            -1.983378    1.983378             0.997099      0.353371   \n",
       "...                ...         ...                  ...           ...   \n",
       "3238         -0.336741    0.336741             0.981830      1.605598   \n",
       "3239         -0.007413    0.007413            -2.059690     -1.524969   \n",
       "3240         -0.007413    0.007413             0.899379      0.353371   \n",
       "3241         -0.336741    0.336741             0.899379      0.353371   \n",
       "3242         -0.336741    0.336741            -0.847357     -0.546667   \n",
       "\n",
       "      Vroom Audit Rating  transmission  door_count  seat_count  fuel_type  \n",
       "0              -0.705205      0.646541    0.435995    0.455874   1.100288  \n",
       "1              -1.420557      0.646541    0.435995    0.455874  -0.908853  \n",
       "2               1.440851     -1.546693    0.435995    0.455874  -0.908853  \n",
       "3               0.010147     -1.546693    0.435995    0.455874  -0.908853  \n",
       "4              -0.705205      0.646541   -2.293604   -2.193588   1.100288  \n",
       "...                  ...           ...         ...         ...        ...  \n",
       "3238            0.725499      0.646541    0.435995    0.455874  -0.908853  \n",
       "3239            0.010147      0.646541    0.435995   -2.193588   1.100288  \n",
       "3240            0.725499     -1.546693    0.435995    0.455874  -0.908853  \n",
       "3241            1.440851      0.646541    0.435995    0.455874  -0.908853  \n",
       "3242           -1.420557      0.646541   -2.293604   -2.193588   1.100288  \n",
       "\n",
       "[3243 rows x 15 columns]"
      ]
     },
     "execution_count": 119,
     "metadata": {},
     "output_type": "execute_result"
    }
   ],
   "source": [
    "data_test"
   ]
  },
  {
   "cell_type": "code",
   "execution_count": 120,
   "id": "c00f897f-35d4-4e06-b2a4-9e9b4a81038d",
   "metadata": {},
   "outputs": [
    {
     "data": {
      "text/plain": [
       "Index(['Id', 'Maker', 'model', 'Location', 'Distance ', 'Owner Type',\n",
       "       'manufacture_year', 'Age of car', 'engine_displacement', 'engine_power',\n",
       "       'Vroom Audit Rating', 'transmission', 'door_count', 'seat_count',\n",
       "       'fuel_type'],\n",
       "      dtype='object')"
      ]
     },
     "execution_count": 120,
     "metadata": {},
     "output_type": "execute_result"
    }
   ],
   "source": [
    "data_test.columns"
   ]
  },
  {
   "cell_type": "code",
   "execution_count": 121,
   "id": "6e646354-9684-4f12-93fc-9aa9c1ac7f32",
   "metadata": {},
   "outputs": [],
   "source": [
    "from sklearn.linear_model import LinearRegression\n",
    "model=LinearRegression()"
   ]
  },
  {
   "cell_type": "code",
   "execution_count": 122,
   "id": "d80d2c89-eb93-4fec-b522-ceaeea8f43e3",
   "metadata": {},
   "outputs": [
    {
     "data": {
      "text/html": [
       "<style>#sk-container-id-2 {\n",
       "  /* Definition of color scheme common for light and dark mode */\n",
       "  --sklearn-color-text: black;\n",
       "  --sklearn-color-line: gray;\n",
       "  /* Definition of color scheme for unfitted estimators */\n",
       "  --sklearn-color-unfitted-level-0: #fff5e6;\n",
       "  --sklearn-color-unfitted-level-1: #f6e4d2;\n",
       "  --sklearn-color-unfitted-level-2: #ffe0b3;\n",
       "  --sklearn-color-unfitted-level-3: chocolate;\n",
       "  /* Definition of color scheme for fitted estimators */\n",
       "  --sklearn-color-fitted-level-0: #f0f8ff;\n",
       "  --sklearn-color-fitted-level-1: #d4ebff;\n",
       "  --sklearn-color-fitted-level-2: #b3dbfd;\n",
       "  --sklearn-color-fitted-level-3: cornflowerblue;\n",
       "\n",
       "  /* Specific color for light theme */\n",
       "  --sklearn-color-text-on-default-background: var(--sg-text-color, var(--theme-code-foreground, var(--jp-content-font-color1, black)));\n",
       "  --sklearn-color-background: var(--sg-background-color, var(--theme-background, var(--jp-layout-color0, white)));\n",
       "  --sklearn-color-border-box: var(--sg-text-color, var(--theme-code-foreground, var(--jp-content-font-color1, black)));\n",
       "  --sklearn-color-icon: #696969;\n",
       "\n",
       "  @media (prefers-color-scheme: dark) {\n",
       "    /* Redefinition of color scheme for dark theme */\n",
       "    --sklearn-color-text-on-default-background: var(--sg-text-color, var(--theme-code-foreground, var(--jp-content-font-color1, white)));\n",
       "    --sklearn-color-background: var(--sg-background-color, var(--theme-background, var(--jp-layout-color0, #111)));\n",
       "    --sklearn-color-border-box: var(--sg-text-color, var(--theme-code-foreground, var(--jp-content-font-color1, white)));\n",
       "    --sklearn-color-icon: #878787;\n",
       "  }\n",
       "}\n",
       "\n",
       "#sk-container-id-2 {\n",
       "  color: var(--sklearn-color-text);\n",
       "}\n",
       "\n",
       "#sk-container-id-2 pre {\n",
       "  padding: 0;\n",
       "}\n",
       "\n",
       "#sk-container-id-2 input.sk-hidden--visually {\n",
       "  border: 0;\n",
       "  clip: rect(1px 1px 1px 1px);\n",
       "  clip: rect(1px, 1px, 1px, 1px);\n",
       "  height: 1px;\n",
       "  margin: -1px;\n",
       "  overflow: hidden;\n",
       "  padding: 0;\n",
       "  position: absolute;\n",
       "  width: 1px;\n",
       "}\n",
       "\n",
       "#sk-container-id-2 div.sk-dashed-wrapped {\n",
       "  border: 1px dashed var(--sklearn-color-line);\n",
       "  margin: 0 0.4em 0.5em 0.4em;\n",
       "  box-sizing: border-box;\n",
       "  padding-bottom: 0.4em;\n",
       "  background-color: var(--sklearn-color-background);\n",
       "}\n",
       "\n",
       "#sk-container-id-2 div.sk-container {\n",
       "  /* jupyter's `normalize.less` sets `[hidden] { display: none; }`\n",
       "     but bootstrap.min.css set `[hidden] { display: none !important; }`\n",
       "     so we also need the `!important` here to be able to override the\n",
       "     default hidden behavior on the sphinx rendered scikit-learn.org.\n",
       "     See: https://github.com/scikit-learn/scikit-learn/issues/21755 */\n",
       "  display: inline-block !important;\n",
       "  position: relative;\n",
       "}\n",
       "\n",
       "#sk-container-id-2 div.sk-text-repr-fallback {\n",
       "  display: none;\n",
       "}\n",
       "\n",
       "div.sk-parallel-item,\n",
       "div.sk-serial,\n",
       "div.sk-item {\n",
       "  /* draw centered vertical line to link estimators */\n",
       "  background-image: linear-gradient(var(--sklearn-color-text-on-default-background), var(--sklearn-color-text-on-default-background));\n",
       "  background-size: 2px 100%;\n",
       "  background-repeat: no-repeat;\n",
       "  background-position: center center;\n",
       "}\n",
       "\n",
       "/* Parallel-specific style estimator block */\n",
       "\n",
       "#sk-container-id-2 div.sk-parallel-item::after {\n",
       "  content: \"\";\n",
       "  width: 100%;\n",
       "  border-bottom: 2px solid var(--sklearn-color-text-on-default-background);\n",
       "  flex-grow: 1;\n",
       "}\n",
       "\n",
       "#sk-container-id-2 div.sk-parallel {\n",
       "  display: flex;\n",
       "  align-items: stretch;\n",
       "  justify-content: center;\n",
       "  background-color: var(--sklearn-color-background);\n",
       "  position: relative;\n",
       "}\n",
       "\n",
       "#sk-container-id-2 div.sk-parallel-item {\n",
       "  display: flex;\n",
       "  flex-direction: column;\n",
       "}\n",
       "\n",
       "#sk-container-id-2 div.sk-parallel-item:first-child::after {\n",
       "  align-self: flex-end;\n",
       "  width: 50%;\n",
       "}\n",
       "\n",
       "#sk-container-id-2 div.sk-parallel-item:last-child::after {\n",
       "  align-self: flex-start;\n",
       "  width: 50%;\n",
       "}\n",
       "\n",
       "#sk-container-id-2 div.sk-parallel-item:only-child::after {\n",
       "  width: 0;\n",
       "}\n",
       "\n",
       "/* Serial-specific style estimator block */\n",
       "\n",
       "#sk-container-id-2 div.sk-serial {\n",
       "  display: flex;\n",
       "  flex-direction: column;\n",
       "  align-items: center;\n",
       "  background-color: var(--sklearn-color-background);\n",
       "  padding-right: 1em;\n",
       "  padding-left: 1em;\n",
       "}\n",
       "\n",
       "\n",
       "/* Toggleable style: style used for estimator/Pipeline/ColumnTransformer box that is\n",
       "clickable and can be expanded/collapsed.\n",
       "- Pipeline and ColumnTransformer use this feature and define the default style\n",
       "- Estimators will overwrite some part of the style using the `sk-estimator` class\n",
       "*/\n",
       "\n",
       "/* Pipeline and ColumnTransformer style (default) */\n",
       "\n",
       "#sk-container-id-2 div.sk-toggleable {\n",
       "  /* Default theme specific background. It is overwritten whether we have a\n",
       "  specific estimator or a Pipeline/ColumnTransformer */\n",
       "  background-color: var(--sklearn-color-background);\n",
       "}\n",
       "\n",
       "/* Toggleable label */\n",
       "#sk-container-id-2 label.sk-toggleable__label {\n",
       "  cursor: pointer;\n",
       "  display: block;\n",
       "  width: 100%;\n",
       "  margin-bottom: 0;\n",
       "  padding: 0.5em;\n",
       "  box-sizing: border-box;\n",
       "  text-align: center;\n",
       "}\n",
       "\n",
       "#sk-container-id-2 label.sk-toggleable__label-arrow:before {\n",
       "  /* Arrow on the left of the label */\n",
       "  content: \"▸\";\n",
       "  float: left;\n",
       "  margin-right: 0.25em;\n",
       "  color: var(--sklearn-color-icon);\n",
       "}\n",
       "\n",
       "#sk-container-id-2 label.sk-toggleable__label-arrow:hover:before {\n",
       "  color: var(--sklearn-color-text);\n",
       "}\n",
       "\n",
       "/* Toggleable content - dropdown */\n",
       "\n",
       "#sk-container-id-2 div.sk-toggleable__content {\n",
       "  max-height: 0;\n",
       "  max-width: 0;\n",
       "  overflow: hidden;\n",
       "  text-align: left;\n",
       "  /* unfitted */\n",
       "  background-color: var(--sklearn-color-unfitted-level-0);\n",
       "}\n",
       "\n",
       "#sk-container-id-2 div.sk-toggleable__content.fitted {\n",
       "  /* fitted */\n",
       "  background-color: var(--sklearn-color-fitted-level-0);\n",
       "}\n",
       "\n",
       "#sk-container-id-2 div.sk-toggleable__content pre {\n",
       "  margin: 0.2em;\n",
       "  border-radius: 0.25em;\n",
       "  color: var(--sklearn-color-text);\n",
       "  /* unfitted */\n",
       "  background-color: var(--sklearn-color-unfitted-level-0);\n",
       "}\n",
       "\n",
       "#sk-container-id-2 div.sk-toggleable__content.fitted pre {\n",
       "  /* unfitted */\n",
       "  background-color: var(--sklearn-color-fitted-level-0);\n",
       "}\n",
       "\n",
       "#sk-container-id-2 input.sk-toggleable__control:checked~div.sk-toggleable__content {\n",
       "  /* Expand drop-down */\n",
       "  max-height: 200px;\n",
       "  max-width: 100%;\n",
       "  overflow: auto;\n",
       "}\n",
       "\n",
       "#sk-container-id-2 input.sk-toggleable__control:checked~label.sk-toggleable__label-arrow:before {\n",
       "  content: \"▾\";\n",
       "}\n",
       "\n",
       "/* Pipeline/ColumnTransformer-specific style */\n",
       "\n",
       "#sk-container-id-2 div.sk-label input.sk-toggleable__control:checked~label.sk-toggleable__label {\n",
       "  color: var(--sklearn-color-text);\n",
       "  background-color: var(--sklearn-color-unfitted-level-2);\n",
       "}\n",
       "\n",
       "#sk-container-id-2 div.sk-label.fitted input.sk-toggleable__control:checked~label.sk-toggleable__label {\n",
       "  background-color: var(--sklearn-color-fitted-level-2);\n",
       "}\n",
       "\n",
       "/* Estimator-specific style */\n",
       "\n",
       "/* Colorize estimator box */\n",
       "#sk-container-id-2 div.sk-estimator input.sk-toggleable__control:checked~label.sk-toggleable__label {\n",
       "  /* unfitted */\n",
       "  background-color: var(--sklearn-color-unfitted-level-2);\n",
       "}\n",
       "\n",
       "#sk-container-id-2 div.sk-estimator.fitted input.sk-toggleable__control:checked~label.sk-toggleable__label {\n",
       "  /* fitted */\n",
       "  background-color: var(--sklearn-color-fitted-level-2);\n",
       "}\n",
       "\n",
       "#sk-container-id-2 div.sk-label label.sk-toggleable__label,\n",
       "#sk-container-id-2 div.sk-label label {\n",
       "  /* The background is the default theme color */\n",
       "  color: var(--sklearn-color-text-on-default-background);\n",
       "}\n",
       "\n",
       "/* On hover, darken the color of the background */\n",
       "#sk-container-id-2 div.sk-label:hover label.sk-toggleable__label {\n",
       "  color: var(--sklearn-color-text);\n",
       "  background-color: var(--sklearn-color-unfitted-level-2);\n",
       "}\n",
       "\n",
       "/* Label box, darken color on hover, fitted */\n",
       "#sk-container-id-2 div.sk-label.fitted:hover label.sk-toggleable__label.fitted {\n",
       "  color: var(--sklearn-color-text);\n",
       "  background-color: var(--sklearn-color-fitted-level-2);\n",
       "}\n",
       "\n",
       "/* Estimator label */\n",
       "\n",
       "#sk-container-id-2 div.sk-label label {\n",
       "  font-family: monospace;\n",
       "  font-weight: bold;\n",
       "  display: inline-block;\n",
       "  line-height: 1.2em;\n",
       "}\n",
       "\n",
       "#sk-container-id-2 div.sk-label-container {\n",
       "  text-align: center;\n",
       "}\n",
       "\n",
       "/* Estimator-specific */\n",
       "#sk-container-id-2 div.sk-estimator {\n",
       "  font-family: monospace;\n",
       "  border: 1px dotted var(--sklearn-color-border-box);\n",
       "  border-radius: 0.25em;\n",
       "  box-sizing: border-box;\n",
       "  margin-bottom: 0.5em;\n",
       "  /* unfitted */\n",
       "  background-color: var(--sklearn-color-unfitted-level-0);\n",
       "}\n",
       "\n",
       "#sk-container-id-2 div.sk-estimator.fitted {\n",
       "  /* fitted */\n",
       "  background-color: var(--sklearn-color-fitted-level-0);\n",
       "}\n",
       "\n",
       "/* on hover */\n",
       "#sk-container-id-2 div.sk-estimator:hover {\n",
       "  /* unfitted */\n",
       "  background-color: var(--sklearn-color-unfitted-level-2);\n",
       "}\n",
       "\n",
       "#sk-container-id-2 div.sk-estimator.fitted:hover {\n",
       "  /* fitted */\n",
       "  background-color: var(--sklearn-color-fitted-level-2);\n",
       "}\n",
       "\n",
       "/* Specification for estimator info (e.g. \"i\" and \"?\") */\n",
       "\n",
       "/* Common style for \"i\" and \"?\" */\n",
       "\n",
       ".sk-estimator-doc-link,\n",
       "a:link.sk-estimator-doc-link,\n",
       "a:visited.sk-estimator-doc-link {\n",
       "  float: right;\n",
       "  font-size: smaller;\n",
       "  line-height: 1em;\n",
       "  font-family: monospace;\n",
       "  background-color: var(--sklearn-color-background);\n",
       "  border-radius: 1em;\n",
       "  height: 1em;\n",
       "  width: 1em;\n",
       "  text-decoration: none !important;\n",
       "  margin-left: 1ex;\n",
       "  /* unfitted */\n",
       "  border: var(--sklearn-color-unfitted-level-1) 1pt solid;\n",
       "  color: var(--sklearn-color-unfitted-level-1);\n",
       "}\n",
       "\n",
       ".sk-estimator-doc-link.fitted,\n",
       "a:link.sk-estimator-doc-link.fitted,\n",
       "a:visited.sk-estimator-doc-link.fitted {\n",
       "  /* fitted */\n",
       "  border: var(--sklearn-color-fitted-level-1) 1pt solid;\n",
       "  color: var(--sklearn-color-fitted-level-1);\n",
       "}\n",
       "\n",
       "/* On hover */\n",
       "div.sk-estimator:hover .sk-estimator-doc-link:hover,\n",
       ".sk-estimator-doc-link:hover,\n",
       "div.sk-label-container:hover .sk-estimator-doc-link:hover,\n",
       ".sk-estimator-doc-link:hover {\n",
       "  /* unfitted */\n",
       "  background-color: var(--sklearn-color-unfitted-level-3);\n",
       "  color: var(--sklearn-color-background);\n",
       "  text-decoration: none;\n",
       "}\n",
       "\n",
       "div.sk-estimator.fitted:hover .sk-estimator-doc-link.fitted:hover,\n",
       ".sk-estimator-doc-link.fitted:hover,\n",
       "div.sk-label-container:hover .sk-estimator-doc-link.fitted:hover,\n",
       ".sk-estimator-doc-link.fitted:hover {\n",
       "  /* fitted */\n",
       "  background-color: var(--sklearn-color-fitted-level-3);\n",
       "  color: var(--sklearn-color-background);\n",
       "  text-decoration: none;\n",
       "}\n",
       "\n",
       "/* Span, style for the box shown on hovering the info icon */\n",
       ".sk-estimator-doc-link span {\n",
       "  display: none;\n",
       "  z-index: 9999;\n",
       "  position: relative;\n",
       "  font-weight: normal;\n",
       "  right: .2ex;\n",
       "  padding: .5ex;\n",
       "  margin: .5ex;\n",
       "  width: min-content;\n",
       "  min-width: 20ex;\n",
       "  max-width: 50ex;\n",
       "  color: var(--sklearn-color-text);\n",
       "  box-shadow: 2pt 2pt 4pt #999;\n",
       "  /* unfitted */\n",
       "  background: var(--sklearn-color-unfitted-level-0);\n",
       "  border: .5pt solid var(--sklearn-color-unfitted-level-3);\n",
       "}\n",
       "\n",
       ".sk-estimator-doc-link.fitted span {\n",
       "  /* fitted */\n",
       "  background: var(--sklearn-color-fitted-level-0);\n",
       "  border: var(--sklearn-color-fitted-level-3);\n",
       "}\n",
       "\n",
       ".sk-estimator-doc-link:hover span {\n",
       "  display: block;\n",
       "}\n",
       "\n",
       "/* \"?\"-specific style due to the `<a>` HTML tag */\n",
       "\n",
       "#sk-container-id-2 a.estimator_doc_link {\n",
       "  float: right;\n",
       "  font-size: 1rem;\n",
       "  line-height: 1em;\n",
       "  font-family: monospace;\n",
       "  background-color: var(--sklearn-color-background);\n",
       "  border-radius: 1rem;\n",
       "  height: 1rem;\n",
       "  width: 1rem;\n",
       "  text-decoration: none;\n",
       "  /* unfitted */\n",
       "  color: var(--sklearn-color-unfitted-level-1);\n",
       "  border: var(--sklearn-color-unfitted-level-1) 1pt solid;\n",
       "}\n",
       "\n",
       "#sk-container-id-2 a.estimator_doc_link.fitted {\n",
       "  /* fitted */\n",
       "  border: var(--sklearn-color-fitted-level-1) 1pt solid;\n",
       "  color: var(--sklearn-color-fitted-level-1);\n",
       "}\n",
       "\n",
       "/* On hover */\n",
       "#sk-container-id-2 a.estimator_doc_link:hover {\n",
       "  /* unfitted */\n",
       "  background-color: var(--sklearn-color-unfitted-level-3);\n",
       "  color: var(--sklearn-color-background);\n",
       "  text-decoration: none;\n",
       "}\n",
       "\n",
       "#sk-container-id-2 a.estimator_doc_link.fitted:hover {\n",
       "  /* fitted */\n",
       "  background-color: var(--sklearn-color-fitted-level-3);\n",
       "}\n",
       "</style><div id=\"sk-container-id-2\" class=\"sk-top-container\"><div class=\"sk-text-repr-fallback\"><pre>LinearRegression()</pre><b>In a Jupyter environment, please rerun this cell to show the HTML representation or trust the notebook. <br />On GitHub, the HTML representation is unable to render, please try loading this page with nbviewer.org.</b></div><div class=\"sk-container\" hidden><div class=\"sk-item\"><div class=\"sk-estimator fitted sk-toggleable\"><input class=\"sk-toggleable__control sk-hidden--visually\" id=\"sk-estimator-id-2\" type=\"checkbox\" checked><label for=\"sk-estimator-id-2\" class=\"sk-toggleable__label fitted sk-toggleable__label-arrow fitted\">&nbsp;&nbsp;LinearRegression<a class=\"sk-estimator-doc-link fitted\" rel=\"noreferrer\" target=\"_blank\" href=\"https://scikit-learn.org/1.5/modules/generated/sklearn.linear_model.LinearRegression.html\">?<span>Documentation for LinearRegression</span></a><span class=\"sk-estimator-doc-link fitted\">i<span>Fitted</span></span></label><div class=\"sk-toggleable__content fitted\"><pre>LinearRegression()</pre></div> </div></div></div></div>"
      ],
      "text/plain": [
       "LinearRegression()"
      ]
     },
     "execution_count": 122,
     "metadata": {},
     "output_type": "execute_result"
    }
   ],
   "source": [
    "model.fit(X,y)"
   ]
  },
  {
   "cell_type": "code",
   "execution_count": 123,
   "id": "5d351035-fb53-4710-8c9b-c4543fe7c099",
   "metadata": {},
   "outputs": [],
   "source": [
    "X_test=data_test[['Id', 'Maker', 'model', 'Location', 'Distance ', 'Owner Type',\n",
    "       'manufacture_year', 'Age of car', 'engine_displacement', 'engine_power',\n",
    "       'Vroom Audit Rating', 'transmission', 'fuel_type','seat_count','door_count']]"
   ]
  },
  {
   "cell_type": "code",
   "execution_count": 124,
   "id": "ddcb7d98-fe5e-4dfb-8339-e3d59f687a63",
   "metadata": {},
   "outputs": [],
   "source": [
    "y_test_pred=pd.DataFrame(model.predict(X_test))"
   ]
  },
  {
   "cell_type": "code",
   "execution_count": 125,
   "id": "80d67e3e-cef2-4317-97fc-788247743b7e",
   "metadata": {},
   "outputs": [
    {
     "data": {
      "text/plain": [
       "(3243, 1)"
      ]
     },
     "execution_count": 125,
     "metadata": {},
     "output_type": "execute_result"
    }
   ],
   "source": [
    "y_test_pred.shape"
   ]
  },
  {
   "cell_type": "code",
   "execution_count": 126,
   "id": "80cc0b3b-75a2-49e1-acb2-2425cc46f501",
   "metadata": {},
   "outputs": [],
   "source": [
    "final=pd.concat([data_test['Id'],y_test_pred],axis=1)"
   ]
  },
  {
   "cell_type": "code",
   "execution_count": 127,
   "id": "7d51880e-bf67-484c-9ee0-1a3dfbd28b7e",
   "metadata": {},
   "outputs": [
    {
     "data": {
      "text/html": [
       "<div>\n",
       "<style scoped>\n",
       "    .dataframe tbody tr th:only-of-type {\n",
       "        vertical-align: middle;\n",
       "    }\n",
       "\n",
       "    .dataframe tbody tr th {\n",
       "        vertical-align: top;\n",
       "    }\n",
       "\n",
       "    .dataframe thead th {\n",
       "        text-align: right;\n",
       "    }\n",
       "</style>\n",
       "<table border=\"1\" class=\"dataframe\">\n",
       "  <thead>\n",
       "    <tr style=\"text-align: right;\">\n",
       "      <th></th>\n",
       "      <th>Id</th>\n",
       "      <th>0</th>\n",
       "    </tr>\n",
       "  </thead>\n",
       "  <tbody>\n",
       "    <tr>\n",
       "      <th>0</th>\n",
       "      <td>-1.733322</td>\n",
       "      <td>-1.895223</td>\n",
       "    </tr>\n",
       "    <tr>\n",
       "      <th>1</th>\n",
       "      <td>-1.732704</td>\n",
       "      <td>0.081139</td>\n",
       "    </tr>\n",
       "    <tr>\n",
       "      <th>2</th>\n",
       "      <td>-1.731469</td>\n",
       "      <td>1.643869</td>\n",
       "    </tr>\n",
       "    <tr>\n",
       "      <th>3</th>\n",
       "      <td>-1.728997</td>\n",
       "      <td>1.832901</td>\n",
       "    </tr>\n",
       "    <tr>\n",
       "      <th>4</th>\n",
       "      <td>-1.728379</td>\n",
       "      <td>-0.428239</td>\n",
       "    </tr>\n",
       "    <tr>\n",
       "      <th>...</th>\n",
       "      <td>...</td>\n",
       "      <td>...</td>\n",
       "    </tr>\n",
       "    <tr>\n",
       "      <th>3238</th>\n",
       "      <td>1.728813</td>\n",
       "      <td>0.931599</td>\n",
       "    </tr>\n",
       "    <tr>\n",
       "      <th>3239</th>\n",
       "      <td>1.729431</td>\n",
       "      <td>-1.597453</td>\n",
       "    </tr>\n",
       "    <tr>\n",
       "      <th>3240</th>\n",
       "      <td>1.731285</td>\n",
       "      <td>-0.093691</td>\n",
       "    </tr>\n",
       "    <tr>\n",
       "      <th>3241</th>\n",
       "      <td>1.733139</td>\n",
       "      <td>-0.503974</td>\n",
       "    </tr>\n",
       "    <tr>\n",
       "      <th>3242</th>\n",
       "      <td>1.735610</td>\n",
       "      <td>-0.783084</td>\n",
       "    </tr>\n",
       "  </tbody>\n",
       "</table>\n",
       "<p>3243 rows × 2 columns</p>\n",
       "</div>"
      ],
      "text/plain": [
       "            Id         0\n",
       "0    -1.733322 -1.895223\n",
       "1    -1.732704  0.081139\n",
       "2    -1.731469  1.643869\n",
       "3    -1.728997  1.832901\n",
       "4    -1.728379 -0.428239\n",
       "...        ...       ...\n",
       "3238  1.728813  0.931599\n",
       "3239  1.729431 -1.597453\n",
       "3240  1.731285 -0.093691\n",
       "3241  1.733139 -0.503974\n",
       "3242  1.735610 -0.783084\n",
       "\n",
       "[3243 rows x 2 columns]"
      ]
     },
     "execution_count": 127,
     "metadata": {},
     "output_type": "execute_result"
    }
   ],
   "source": [
    "final"
   ]
  },
  {
   "cell_type": "code",
   "execution_count": 129,
   "id": "f79fec1b-4630-48dd-9396-26993f4f400f",
   "metadata": {},
   "outputs": [],
   "source": [
    "final.to_csv('test_file.csv')"
   ]
  },
  {
   "cell_type": "code",
   "execution_count": null,
   "id": "61c0d97f-b798-4e5e-9335-66af162a33d9",
   "metadata": {},
   "outputs": [],
   "source": []
  }
 ],
 "metadata": {
  "kernelspec": {
   "display_name": "Python 3 (ipykernel)",
   "language": "python",
   "name": "python3"
  },
  "language_info": {
   "codemirror_mode": {
    "name": "ipython",
    "version": 3
   },
   "file_extension": ".py",
   "mimetype": "text/x-python",
   "name": "python",
   "nbconvert_exporter": "python",
   "pygments_lexer": "ipython3",
   "version": "3.12.4"
  }
 },
 "nbformat": 4,
 "nbformat_minor": 5
}
